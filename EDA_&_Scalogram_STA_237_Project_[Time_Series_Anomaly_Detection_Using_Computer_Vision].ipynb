{
  "nbformat": 4,
  "nbformat_minor": 0,
  "metadata": {
    "colab": {
      "name": "EDA  & Scalogram STA 237 Project [Time Series Anomaly Detection Using Computer Vision]",
      "provenance": [],
      "collapsed_sections": [],
      "include_colab_link": true
    },
    "kernelspec": {
      "display_name": "Python 3",
      "name": "python3"
    }
  },
  "cells": [
    {
      "cell_type": "markdown",
      "metadata": {
        "id": "view-in-github",
        "colab_type": "text"
      },
      "source": [
        "<a href=\"https://colab.research.google.com/github/ormorteey/STA-237-Time-Series/blob/main/EDA_%26_Scalogram_STA_237_Project_%5BTime_Series_Anomaly_Detection_Using_Computer_Vision%5D.ipynb\" target=\"_parent\"><img src=\"https://colab.research.google.com/assets/colab-badge.svg\" alt=\"Open In Colab\"/></a>"
      ]
    },
    {
      "cell_type": "code",
      "metadata": {
        "id": "lIYdn1woOS1n"
      },
      "source": [
        "import numpy as np\n",
        "import pandas as pd\n",
        "import tensorflow as tf\n",
        "from matplotlib import pyplot as plt\n",
        "import skimage.measure\n",
        "import pywt\n",
        "import os"
      ],
      "execution_count": null,
      "outputs": []
    },
    {
      "cell_type": "code",
      "metadata": {
        "id": "qT8xfUPrC4oA"
      },
      "source": [
        "%load_ext rpy2.ipython"
      ],
      "execution_count": null,
      "outputs": []
    },
    {
      "cell_type": "code",
      "metadata": {
        "id": "44Yq6iS5_DqF"
      },
      "source": [
        "%%capture\n",
        "%%R\n",
        "# Signify cell is an R cell\n",
        "# Silence Output\n",
        "\n",
        "h = install.packages(\"pacman\")\n",
        "h = library(pacman)"
      ],
      "execution_count": null,
      "outputs": []
    },
    {
      "cell_type": "code",
      "metadata": {
        "id": "6s1dfIhFDNdf"
      },
      "source": [
        "%%R\n",
        "# load packages for data manipulation in R\n",
        "p_load(\"tidyverse\", \"googledrive\")"
      ],
      "execution_count": null,
      "outputs": []
    },
    {
      "cell_type": "code",
      "metadata": {
        "id": "Bgcoci3oC3qt"
      },
      "source": [
        "# Silence Output\n",
        "%%capture\n",
        "%%R\n",
        "\n",
        "# killing auth request\n",
        "drive_deauth()\n",
        "drive_user()\n",
        "\n",
        "# retrieving fulll url ID of files\n",
        "public_file = drive_get(as_id(c(\"10i8tM37aqHvD-YH2JK1qZAXzYdawIsgh\",\"1eJ4uXiFqGqsXJ2ut5vex_Lg3BLlUAPjT\",\"1B6pbF90ryhJ-kpu0nQ3FKt6RcSavgCMS\")) )\n",
        "\n",
        "# download the files\n",
        "save_output = 1:3 %>% map(~drive_download(public_file[.,], overwrite = T))"
      ],
      "execution_count": null,
      "outputs": []
    },
    {
      "cell_type": "code",
      "metadata": {
        "id": "DdE_zlEHmN_k"
      },
      "source": [
        "# file location for HDF5 & csv datasets\n",
        "airbus_train_path = 'dftrain.h5'\n",
        "airbus_valid_path = 'dfvalid.h5'\n",
        "airbus_valid_groundtruth_path = 'dfvalid_groundtruth.csv'\n",
        "# read hdf files: training data and validation data and ground truth [labels]\n",
        "train_df = pd.read_hdf(airbus_train_path)\n",
        "valid_df = pd.read_hdf(airbus_valid_path)\n",
        "valid_groundtruth_df = pd.read_csv(airbus_valid_groundtruth_path)\n"
      ],
      "execution_count": null,
      "outputs": []
    },
    {
      "cell_type": "code",
      "metadata": {
        "id": "wPiUgqWENpDP"
      },
      "source": [
        "def prepare_dataset(df, rows = 10, cols = 10):\n",
        "  \n",
        "  # cast df as numpy array\n",
        "  df_tensor = df.to_numpy()\n",
        "  # reshape df to tensor to rows of df with 120 series with length 512\n",
        "  df_tensor = np.reshape(df_tensor, (df.shape[0],120, 512))\n",
        "  # diagnostics: shape of dataframe\n",
        "  print(df.shape)\n",
        "  # diagnostics: shape of df tensor\n",
        "  print(df_tensor.shape)\n",
        "  # get continuous wavelet transform scales\n",
        "  SC_scales = np.array([2**(i/4) for i in range(1,65)])\n",
        "\n",
        "  print(SC_scales.shape)\n",
        "\n",
        "  # create empty scalograms\n",
        "  df_scalograms = np.empty([rows, cols, 64, 64])\n",
        "  # fill up scalogram\n",
        "  for ii in np.arange(rows):\n",
        "    for jj in np.arange(cols):   \n",
        "      df_scalograms[ii,jj,:,:] =  get_scalogram(df_tensor[ii,jj], SC_scales)\n",
        "  reshape_list = df_scalograms.shape\n",
        "  print(df_scalograms.shape)\n",
        "  df_scalograms = df_scalograms.reshape(reshape_list[0] * reshape_list[1], reshape_list[2], reshape_list[3], 1)\n",
        "\n",
        "  return(df_scalograms)\n"
      ],
      "execution_count": null,
      "outputs": []
    },
    {
      "cell_type": "code",
      "metadata": {
        "id": "K7jP5hEdWLLY"
      },
      "source": [
        "def get_scalogram(x, SC_scales):\n",
        "  cwtmatr, freqs = pywt.cwt(x, SC_scales, 'mexh')\n",
        "  a = skimage.measure.block_reduce(cwtmatr, (1,8), np.average)  \n",
        "  return(a)\n",
        "\n",
        "def scalogram_plotter(x, show = False):\n",
        "  plt.imshow(x.reshape(64, 64), cmap = \"jet\", aspect = \"auto\")\n",
        "  if show == True:\n",
        "      plt.show()\n",
        "\n",
        "# def prepare_labels(label_Arr, rows = None, cols = None ):\n",
        "\n",
        "#   label_Arr = label_Arr.reshape([rows, 1])\n",
        "#   label_Arr = label_Arr.reshape([rows, 1])\n",
        "#   label_tensor = np.tile(label_Arr, cols).reshape([rows * cols, 1])\n",
        "#   return(label_tensor)"
      ],
      "execution_count": null,
      "outputs": []
    },
    {
      "cell_type": "code",
      "metadata": {
        "colab": {
          "base_uri": "https://localhost:8080/"
        },
        "id": "oL7qCliJn2lv",
        "outputId": "cfde30c9-5761-4878-e1c8-e07f4a754782"
      },
      "source": [
        "print(train_df.shape)\n",
        "print(valid_df.shape)"
      ],
      "execution_count": null,
      "outputs": [
        {
          "name": "stdout",
          "output_type": "stream",
          "text": [
            "(1677, 61440)\n",
            "(594, 61440)\n"
          ]
        }
      ]
    },
    {
      "cell_type": "code",
      "metadata": {
        "colab": {
          "background_save": true,
          "base_uri": "https://localhost:8080/"
        },
        "id": "rpYlZTmmU-R1",
        "outputId": "eebbced8-90f9-44e6-c17d-f8e9ec22fede"
      },
      "source": [
        "# takes approximately 5 minutes for compute\n",
        "with tf.device(\"/gpu:0\"):\n",
        "  rows, cols = 1677, 120\n",
        "  validation_examples = prepare_dataset(valid_df, rows = 594, cols = 120)\n",
        "  print(validation_examples.shape)\n",
        "  train_examples = prepare_dataset(train_df, rows = 1677, cols = 120)\n",
        "  print(train_examples.shape)"
      ],
      "execution_count": null,
      "outputs": [
        {
          "name": "stdout",
          "output_type": "stream",
          "text": [
            "(594, 61440)\n",
            "(594, 120, 512)\n",
            "(64,)\n"
          ]
        }
      ]
    },
    {
      "cell_type": "code",
      "metadata": {
        "id": "DEeWzJS9pWSo"
      },
      "source": [
        "np.savez_compressed('', validation_examples, train_examples)"
      ],
      "execution_count": null,
      "outputs": []
    },
    {
      "cell_type": "code",
      "metadata": {
        "colab": {
          "base_uri": "https://localhost:8080/",
          "height": 1000
        },
        "id": "zSSjvfAEV18A",
        "outputId": "d0fb4fa1-c460-4108-c449-cd0230961096"
      },
      "source": [
        "scalogram_plotter(validation_examples[1,:,:,:],  True)\n",
        "scalogram_plotter(validation_examples[0,:,:,:],  True)\n",
        "# train examples\n",
        "scalogram_plotter(train_examples[1,:,:,:],  True)\n",
        "scalogram_plotter(train_examples[0,:,:,:],  True)"
      ],
      "execution_count": null,
      "outputs": [
        {
          "data": {
            "image/png": "[encoded data removed]",
            "text/plain": [
              "<Figure size 432x288 with 1 Axes>"
            ]
          },
          "metadata": {},
          "output_type": "display_data"
        },
        {
          "data": {
            "image/png": "[encoded data removed]",
            "text/plain": [
              "<Figure size 432x288 with 1 Axes>"
            ]
          },
          "metadata": {},
          "output_type": "display_data"
        },
        {
          "data": {
            "image/png": "[encoded data removed]",
            "text/plain": [
              "<Figure size 432x288 with 1 Axes>"
            ]
          },
          "metadata": {},
          "output_type": "display_data"
        },
        {
          "data": {
            "image/png": "[encoded data removed]",
            "text/plain": [
              "<Figure size 432x288 with 1 Axes>"
            ]
          },
          "metadata": {},
          "output_type": "display_data"
        }
      ]
    },
    {
      "cell_type": "code",
      "metadata": {
        "id": "wG_Oo-NaNNGz"
      },
      "source": [
        "# plot more random scalograms\n",
        "\n",
        "# plt.figure(figsize= (10,10))\n",
        "# rng = np.random.default_rng(12345)\n",
        "# counter_list = [rng.integers(low=0, high=valid_tensor.shape[0]) for ii in np.arange(2)]\n",
        "\n",
        "# for jj in np.arange(len(counter_list)):\n",
        "#   ax = plt.subplot(2,1, jj + 1)\n",
        "#   scalogram_plotter(valid_tensor[jj,:,:],  True)\n",
        "#   plt.axis(\"off\")"
      ],
      "execution_count": null,
      "outputs": []
    },
    {
      "cell_type": "code",
      "metadata": {
        "id": "xNlsO_PobR6F"
      },
      "source": [
        "# create labels\n",
        "\n",
        "with tf.device(\"/gpu:0\"):\n",
        "  validation_labels = valid_groundtruth_df['anomaly'].head(594).to_numpy()\n",
        "#   validation_labels = prepare_labels(validation_labels[:rows], rows, cols ).reshape(cols * rows)\n",
        "#   print(validation_labels.shape)\n",
        "\n",
        "  train_labels = np.ones([train_examples.shape[0]])\n",
        "#   train_labels.shape"
      ],
      "execution_count": null,
      "outputs": []
    },
    {
      "cell_type": "code",
      "metadata": {
        "id": "fqnR2NZi3Nm2"
      },
      "source": [
        "# create dataset to serve the model\n",
        "train_dataset = tf.data.Dataset.from_tensor_slices((train_examples, train_labels))\n",
        "# validation_dataset = tf.data.Dataset.from_tensor_slices((validation_examples, validation_labels))"
      ],
      "execution_count": null,
      "outputs": []
    },
    {
      "cell_type": "code",
      "metadata": {
        "id": "sUha8_43Rtqb"
      },
      "source": [
        "# Configure dataset batch size and shuffler\n",
        "BATCH_SIZE = 100\n",
        "SHUFFLE_BUFFER_SIZE = 100\n",
        "\n",
        "train_dataset = train_dataset.shuffle(SHUFFLE_BUFFER_SIZE).batch(BATCH_SIZE)\n",
        "# train_dataset = train_dataset.batch(BATCH_SIZE)\n",
        "# validation_dataset = validation_dataset.batch(BATCH_SIZE)\n",
        "\n",
        "# Configuring dataset performance\n",
        "AUTOTUNE = tf.data.AUTOTUNE\n",
        "\n",
        "train_dataset = train_dataset.cache().prefetch(buffer_size=AUTOTUNE)\n",
        "# validation_dataset = validation_dataset.cache().prefetch(buffer_size=AUTOTUNE)"
      ],
      "execution_count": null,
      "outputs": []
    },
    {
      "cell_type": "code",
      "metadata": {
        "colab": {
          "base_uri": "https://localhost:8080/"
        },
        "id": "bemZPLzTtrnn",
        "outputId": "a1becbc0-e7d4-4794-fe33-036907ce344c"
      },
      "source": [
        "train_dataset"
      ],
      "execution_count": null,
      "outputs": [
        {
          "data": {
            "text/plain": [
              "<PrefetchDataset shapes: ((None, 64, 64, 1), (None,)), types: (tf.float64, tf.float64)>"
            ]
          },
          "execution_count": 123,
          "metadata": {},
          "output_type": "execute_result"
        }
      ]
    },
    {
      "cell_type": "code",
      "metadata": {
        "id": "fN6y6M5mw0KN"
      },
      "source": [
        "# tf.data.experimental.save(\n",
        "#     train_dataset, path = \"/tr/\", compression=\"GZIP\", shard_func=None, checkpoint_args=None\n",
        "# )"
      ],
      "execution_count": null,
      "outputs": []
    },
    {
      "cell_type": "code",
      "metadata": {
        "colab": {
          "base_uri": "https://localhost:8080/"
        },
        "id": "T_I1uaZygyad",
        "outputId": "0f8f9bde-ee8a-40ea-f903-67aa96284da4"
      },
      "source": [
        "tf.keras.backend.clear_session()\n",
        "with tf.device(\"/gpu:0\"):\n",
        "  \n",
        "  model = tf.keras.Sequential([\n",
        "                         \n",
        "    tf.keras.layers.InputLayer(input_shape = (64,64,1)),                          \n",
        "    tf.keras.layers.Conv2D(64, kernel_size=2 , strides=2, activation=tf.keras.layers.LeakyReLU(alpha=0.3)),\n",
        "    tf.keras.layers.Conv2D(128, kernel_size=(2,2), strides=(2,2), activation=tf.keras.layers.LeakyReLU(alpha=0.3)),\n",
        "    tf.keras.layers.Dense(32768,  activation=tf.keras.layers.LeakyReLU(alpha=0.3)),\n",
        "    tf.keras.layers.Dense(300, activation=tf.keras.layers.LeakyReLU(alpha=0.3)),\n",
        "    tf.keras.layers.Dense(32768, activation=tf.keras.layers.LeakyReLU(alpha=0.3)),\n",
        "    tf.keras.layers.Conv2DTranspose(128, kernel_size=1, strides=1, activation=tf.keras.layers.LeakyReLU(alpha=0.3)),\n",
        "    tf.keras.layers.Conv2DTranspose(64, kernel_size=2 , strides=2, activation=tf.keras.layers.LeakyReLU(alpha=0.3)),\n",
        "    tf.keras.layers.Conv2DTranspose(1, kernel_size=2 , strides=2, activation=tf.keras.layers.LeakyReLU(alpha=0.3))\n",
        "\n",
        "  ])\n",
        "\n",
        "with tf.device(\"/gpu:0\"):\n",
        "  model.compile(\n",
        "    optimizer='adam',\n",
        "    loss=tf.losses.MeanAbsoluteError())\n",
        "\n",
        "model.summary()\n"
      ],
      "execution_count": null,
      "outputs": [
        {
          "name": "stdout",
          "output_type": "stream",
          "text": [
            "Model: \"sequential\"\n",
            "_________________________________________________________________\n",
            " Layer (type)                Output Shape              Param #   \n",
            "=================================================================\n",
            " conv2d (Conv2D)             (None, 32, 32, 64)        320       \n",
            "                                                                 \n",
            " conv2d_1 (Conv2D)           (None, 16, 16, 128)       32896     \n",
            "                                                                 \n",
            " dense (Dense)               (None, 16, 16, 32768)     4227072   \n",
            "                                                                 \n",
            " dense_1 (Dense)             (None, 16, 16, 300)       9830700   \n",
            "                                                                 \n",
            " dense_2 (Dense)             (None, 16, 16, 32768)     9863168   \n",
            "                                                                 \n",
            " conv2d_transpose (Conv2DTra  (None, 16, 16, 128)      4194432   \n",
            " nspose)                                                         \n",
            "                                                                 \n",
            " conv2d_transpose_1 (Conv2DT  (None, 32, 32, 64)       32832     \n",
            " ranspose)                                                       \n",
            "                                                                 \n",
            " conv2d_transpose_2 (Conv2DT  (None, 64, 64, 1)        257       \n",
            " ranspose)                                                       \n",
            "                                                                 \n",
            "=================================================================\n",
            "Total params: 28,181,677\n",
            "Trainable params: 28,181,677\n",
            "Non-trainable params: 0\n",
            "_________________________________________________________________\n"
          ]
        }
      ]
    },
    {
      "cell_type": "code",
      "metadata": {
        "id": "IMGBKxQv9YjI"
      },
      "source": [
        "\n",
        "def resid_fn(pre_img, post_img):\n",
        "  return(np.sum(np.absolute(pre_img - post_img)))\n",
        "  "
      ],
      "execution_count": null,
      "outputs": []
    },
    {
      "cell_type": "code",
      "metadata": {
        "colab": {
          "base_uri": "https://localhost:8080/"
        },
        "id": "N10tJlL_5NYm",
        "outputId": "c017785a-d3ff-48fe-9606-3ca9b7b62b9c"
      },
      "source": [
        "# physical_devices = tf.config.list_physical_devices('GPU')\n",
        "# tf.config.experimental.set_memory_growth(physical_devices[0], enable=True)\n",
        "# with tf.device(\"/gpu:0\"):\n",
        "with tf.device(\"/gpu:0\"):\n",
        "  model.fit(\n",
        "    train_dataset,\n",
        "    epochs=10\n",
        "  )\n"
      ],
      "execution_count": null,
      "outputs": [
        {
          "name": "stdout",
          "output_type": "stream",
          "text": [
            "Epoch 1/10\n",
            "15/15 [==============================] - 130s 9s/step - loss: 0.6231\n",
            "Epoch 2/10\n",
            "15/15 [==============================] - 129s 9s/step - loss: 0.1389\n",
            "Epoch 3/10\n",
            "15/15 [==============================] - 129s 9s/step - loss: 0.0736\n",
            "Epoch 4/10\n",
            "15/15 [==============================] - 130s 9s/step - loss: 0.0426\n",
            "Epoch 5/10\n",
            "15/15 [==============================] - 129s 9s/step - loss: 0.0727\n",
            "Epoch 6/10\n",
            "15/15 [==============================] - 130s 9s/step - loss: 0.0681\n",
            "Epoch 7/10\n",
            "15/15 [==============================] - 129s 9s/step - loss: 0.0367\n",
            "Epoch 8/10\n",
            "15/15 [==============================] - 129s 9s/step - loss: 0.0324\n",
            "Epoch 9/10\n",
            "15/15 [==============================] - 127s 8s/step - loss: 0.0343\n",
            "Epoch 10/10\n",
            "13/15 [=========================>....] - ETA: 16s - loss: 0.0265"
          ]
        }
      ]
    },
    {
      "cell_type": "code",
      "metadata": {
        "id": "NLVBS9QwRNzi"
      },
      "source": [
        "def classificator(validation_examples, train_examples, rows, cols, qtl = 0.99, model = None):\n",
        "  post_validation_exam = model.predict(validation_examples)\n",
        "  # post = train_examples = model.predict(train_examples)\n",
        "  cutoff = get_train_residuals_qtl(train_examples, qtl, model)\n",
        "  res = []\n",
        "  temp_res = []\n",
        "  for ii in range(0,rows * cols, cols):\n",
        "    print(\"===== Done {} out of {}\".format(ii, rows) )\n",
        "    for jj in range(cols):\n",
        "      temp_res.append(resid_fn(validation_examples[ii+jj,:, :,:], post_validation_exam[ii+jj,:,:,:]))\n",
        "    \n",
        "    if max(temp_res) > cutoff:\n",
        "      res.append(1)\n",
        "    else:\n",
        "      res.append(0) \n",
        "\n",
        "  return(res) \n",
        "\n"
      ],
      "execution_count": null,
      "outputs": []
    },
    {
      "cell_type": "code",
      "metadata": {
        "colab": {
          "base_uri": "https://localhost:8080/",
          "height": 264
        },
        "id": "jBZq_Lxr6NlQ",
        "outputId": "a428fb64-b920-4421-b581-a2684d5e0f32"
      },
      "source": [
        " pred_train = get_train_residuals_qtl(train_examples, qtl = 0.99, model = model)"
      ],
      "execution_count": null,
      "outputs": [
        {
          "data": {
            "image/png": "[encoded data removed]",
            "text/plain": [
              "<Figure size 432x288 with 1 Axes>"
            ]
          },
          "metadata": {},
          "output_type": "display_data"
        }
      ]
    },
    {
      "cell_type": "code",
      "metadata": {
        "colab": {
          "base_uri": "https://localhost:8080/"
        },
        "id": "kitXxn527NQq",
        "outputId": "d93a71bc-fe48-4e67-811c-7ae0fa1d1b6c"
      },
      "source": [
        "pred_train"
      ],
      "execution_count": null,
      "outputs": [
        {
          "data": {
            "text/plain": [
              "7665.473265628503"
            ]
          },
          "execution_count": 139,
          "metadata": {},
          "output_type": "execute_result"
        }
      ]
    },
    {
      "cell_type": "code",
      "metadata": {
        "id": "tzz1Jk3mMZPi"
      },
      "source": [
        "def get_train_residuals_qtl(train_examples, qtl = 0.99, model = None):\n",
        "  \n",
        "  results = []\n",
        "  res = model.predict(train_examples)\n",
        "  for ii in range(rows*cols):\n",
        "    results.append( resid_fn(res[ii,:,:,:], train_examples[ii,:,:,:]))\n",
        "  plt.plot(results)\n",
        "  results.sort()\n",
        "  plt.plot(results)  \n",
        "  return(results[int(np.floor(len(results) * qtl))])\n",
        "  # return(results)\n"
      ],
      "execution_count": null,
      "outputs": []
    },
    {
      "cell_type": "code",
      "metadata": {
        "id": "4eKZKL1HQMvz"
      },
      "source": [
        "with tf.device(\"/gpu:0\"):\n",
        "  pred_labels = classificator(validation_examples, train_examples, rows, cols, qtl = 0.9, model = model)"
      ],
      "execution_count": null,
      "outputs": []
    },
    {
      "cell_type": "code",
      "metadata": {
        "colab": {
          "base_uri": "https://localhost:8080/"
        },
        "id": "stBOOsLce0DH",
        "outputId": "518afb18-a65d-47ca-854e-6c2bcff6813f"
      },
      "source": [
        "def print_stats(predictions, labels):\n",
        "  print(\"Accuracy = {}\".format(accuracy_score(labels, predictions)))\n",
        "  print(\"Precision = {}\".format(precision_score(labels, predictions)))\n",
        "  print(\"Recall = {}\".format(recall_score(labels, predictions)))"
      ],
      "execution_count": null,
      "outputs": [
        {
          "data": {
            "text/plain": [
              "21"
            ]
          },
          "execution_count": 135,
          "metadata": {},
          "output_type": "execute_result"
        }
      ]
    },
    {
      "cell_type": "code",
      "metadata": {
        "colab": {
          "base_uri": "https://localhost:8080/"
        },
        "id": "Ut6psNiFe3nv",
        "outputId": "fca48913-51e9-45fe-ccd2-90d70e16f353"
      },
      "source": [
        "validation_labels"
      ],
      "execution_count": null,
      "outputs": [
        {
          "data": {
            "text/plain": [
              "array([0., 1., 0., 0., 1., 1., 0., 0., 1., 0., 0., 0., 1., 1., 1., 0., 1.,\n",
              "       1., 0., 0., 0., 1., 0., 0., 1., 1., 0., 1., 1., 0., 0., 0., 1., 0.,\n",
              "       0., 0., 1., 0., 0., 0., 0., 0., 1., 1., 1., 0., 0., 0., 0., 1.])"
            ]
          },
          "execution_count": 134,
          "metadata": {},
          "output_type": "execute_result"
        }
      ]
    }
  ]
}