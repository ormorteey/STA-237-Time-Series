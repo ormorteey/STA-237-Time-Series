{
  "nbformat": 4,
  "nbformat_minor": 0,
  "metadata": {
    "accelerator": "TPU",
    "colab": {
      "name": "EDA  & Scalogram STA 237 Project [Time Series Anomaly Detection Using Computer Vision]",
      "provenance": [],
      "collapsed_sections": [],
      "include_colab_link": true
    },
    "kernelspec": {
      "display_name": "Python 3",
      "name": "python3"
    }
  },
  "cells": [
    {
      "cell_type": "markdown",
      "metadata": {
        "id": "view-in-github",
        "colab_type": "text"
      },
      "source": [
        "<a href=\"https://colab.research.google.com/github/ormorteey/STA-237-Time-Series/blob/main/EDA_%26_Scalogram_STA_237_Project_%5BTime_Series_Anomaly_Detection_Using_Computer_Vision%5D.ipynb\" target=\"_parent\"><img src=\"https://colab.research.google.com/assets/colab-badge.svg\" alt=\"Open In Colab\"/></a>"
      ]
    },
    {
      "cell_type": "code",
      "metadata": {
        "id": "lIYdn1woOS1n"
      },
      "source": [
        "import numpy as np\n",
        "import pandas as pd\n",
        "import tensorflow as tf\n",
        "from matplotlib import pyplot as plt\n",
        "from sklearn.metrics import accuracy_score, precision_score, recall_score\n",
        "import skimage.measure\n",
        "import pywt\n",
        "import os\n",
        "import time\n",
        "from google.colab import files"
      ],
      "execution_count": null,
      "outputs": []
    },
    {
      "cell_type": "code",
      "metadata": {
        "colab": {
          "base_uri": "https://localhost:8080/"
        },
        "id": "cxoMeRyt_DDM",
        "outputId": "36fbefcc-cf38-4df2-9c91-7696f647d1a4"
      },
      "source": [
        "resolver = tf.distribute.cluster_resolver.TPUClusterResolver(tpu='')\n",
        "tf.config.experimental_connect_to_cluster(resolver)\n",
        "# This is the TPU initialization code that has to be at the beginning.\n",
        "tf.tpu.experimental.initialize_tpu_system(resolver)\n",
        "print(\"All devices: \", tf.config.list_logical_devices('TPU'))"
      ],
      "execution_count": null,
      "outputs": [
        {
          "output_type": "stream",
          "name": "stdout",
          "text": [
            "INFO:tensorflow:Deallocate tpu buffers before initializing tpu system.\n"
          ]
        },
        {
          "output_type": "stream",
          "name": "stderr",
          "text": [
            "INFO:tensorflow:Deallocate tpu buffers before initializing tpu system.\n"
          ]
        },
        {
          "output_type": "stream",
          "name": "stdout",
          "text": [
            "INFO:tensorflow:Initializing the TPU system: grpc://10.112.175.178:8470\n"
          ]
        },
        {
          "output_type": "stream",
          "name": "stderr",
          "text": [
            "INFO:tensorflow:Initializing the TPU system: grpc://10.112.175.178:8470\n"
          ]
        },
        {
          "output_type": "stream",
          "name": "stdout",
          "text": [
            "INFO:tensorflow:Finished initializing TPU system.\n"
          ]
        },
        {
          "output_type": "stream",
          "name": "stderr",
          "text": [
            "INFO:tensorflow:Finished initializing TPU system.\n"
          ]
        },
        {
          "output_type": "stream",
          "name": "stdout",
          "text": [
            "All devices:  [LogicalDevice(name='/job:worker/replica:0/task:0/device:TPU:0', device_type='TPU'), LogicalDevice(name='/job:worker/replica:0/task:0/device:TPU:1', device_type='TPU'), LogicalDevice(name='/job:worker/replica:0/task:0/device:TPU:2', device_type='TPU'), LogicalDevice(name='/job:worker/replica:0/task:0/device:TPU:3', device_type='TPU'), LogicalDevice(name='/job:worker/replica:0/task:0/device:TPU:4', device_type='TPU'), LogicalDevice(name='/job:worker/replica:0/task:0/device:TPU:5', device_type='TPU'), LogicalDevice(name='/job:worker/replica:0/task:0/device:TPU:6', device_type='TPU'), LogicalDevice(name='/job:worker/replica:0/task:0/device:TPU:7', device_type='TPU')]\n"
          ]
        }
      ]
    },
    {
      "cell_type": "code",
      "metadata": {
        "id": "qT8xfUPrC4oA"
      },
      "source": [
        "%load_ext rpy2.ipython"
      ],
      "execution_count": null,
      "outputs": []
    },
    {
      "cell_type": "code",
      "metadata": {
        "colab": {
          "base_uri": "https://localhost:8080/"
        },
        "id": "44Yq6iS5_DqF",
        "outputId": "d4280667-a8d0-4177-b74d-06af93386421"
      },
      "source": [
        "%%capture\n",
        "%%R\n",
        "# Signify cell is an R cell\n",
        "# Silence Output\n",
        "\n",
        "h = install.packages(\"pacman\")\n",
        "h = library(pacman)"
      ],
      "execution_count": null,
      "outputs": [
        {
          "output_type": "stream",
          "name": "stderr",
          "text": [
            "WARNING:rpy2.rinterface_lib.callbacks:R[write to console]: Installing package into ‘/usr/local/lib/R/site-library’\n",
            "(as ‘lib’ is unspecified)\n",
            "\n",
            "WARNING:rpy2.rinterface_lib.callbacks:R[write to console]: trying URL 'https://cran.rstudio.com/src/contrib/pacman_0.5.1.tar.gz'\n",
            "\n",
            "WARNING:rpy2.rinterface_lib.callbacks:R[write to console]: Content type 'application/x-gzip'\n",
            "WARNING:rpy2.rinterface_lib.callbacks:R[write to console]:  length 274400 bytes (267 KB)\n",
            "\n",
            "WARNING:rpy2.rinterface_lib.callbacks:R[write to console]: =\n",
            "WARNING:rpy2.rinterface_lib.callbacks:R[write to console]: =\n",
            "WARNING:rpy2.rinterface_lib.callbacks:R[write to console]: =\n",
            "WARNING:rpy2.rinterface_lib.callbacks:R[write to console]: =\n",
            "WARNING:rpy2.rinterface_lib.callbacks:R[write to console]: =\n",
            "WARNING:rpy2.rinterface_lib.callbacks:R[write to console]: =\n",
            "WARNING:rpy2.rinterface_lib.callbacks:R[write to console]: =\n",
            "WARNING:rpy2.rinterface_lib.callbacks:R[write to console]: =\n",
            "WARNING:rpy2.rinterface_lib.callbacks:R[write to console]: =\n",
            "WARNING:rpy2.rinterface_lib.callbacks:R[write to console]: =\n",
            "WARNING:rpy2.rinterface_lib.callbacks:R[write to console]: =\n",
            "WARNING:rpy2.rinterface_lib.callbacks:R[write to console]: =\n",
            "WARNING:rpy2.rinterface_lib.callbacks:R[write to console]: =\n",
            "WARNING:rpy2.rinterface_lib.callbacks:R[write to console]: =\n",
            "WARNING:rpy2.rinterface_lib.callbacks:R[write to console]: =\n",
            "WARNING:rpy2.rinterface_lib.callbacks:R[write to console]: =\n",
            "WARNING:rpy2.rinterface_lib.callbacks:R[write to console]: =\n",
            "WARNING:rpy2.rinterface_lib.callbacks:R[write to console]: =\n",
            "WARNING:rpy2.rinterface_lib.callbacks:R[write to console]: =\n",
            "WARNING:rpy2.rinterface_lib.callbacks:R[write to console]: =\n",
            "WARNING:rpy2.rinterface_lib.callbacks:R[write to console]: =\n",
            "WARNING:rpy2.rinterface_lib.callbacks:R[write to console]: =\n",
            "WARNING:rpy2.rinterface_lib.callbacks:R[write to console]: =\n",
            "WARNING:rpy2.rinterface_lib.callbacks:R[write to console]: =\n",
            "WARNING:rpy2.rinterface_lib.callbacks:R[write to console]: =\n",
            "WARNING:rpy2.rinterface_lib.callbacks:R[write to console]: =\n",
            "WARNING:rpy2.rinterface_lib.callbacks:R[write to console]: =\n",
            "WARNING:rpy2.rinterface_lib.callbacks:R[write to console]: =\n",
            "WARNING:rpy2.rinterface_lib.callbacks:R[write to console]: =\n",
            "WARNING:rpy2.rinterface_lib.callbacks:R[write to console]: =\n",
            "WARNING:rpy2.rinterface_lib.callbacks:R[write to console]: =\n",
            "WARNING:rpy2.rinterface_lib.callbacks:R[write to console]: =\n",
            "WARNING:rpy2.rinterface_lib.callbacks:R[write to console]: =\n",
            "WARNING:rpy2.rinterface_lib.callbacks:R[write to console]: =\n",
            "WARNING:rpy2.rinterface_lib.callbacks:R[write to console]: =\n",
            "WARNING:rpy2.rinterface_lib.callbacks:R[write to console]: =\n",
            "WARNING:rpy2.rinterface_lib.callbacks:R[write to console]: =\n",
            "WARNING:rpy2.rinterface_lib.callbacks:R[write to console]: =\n",
            "WARNING:rpy2.rinterface_lib.callbacks:R[write to console]: =\n",
            "WARNING:rpy2.rinterface_lib.callbacks:R[write to console]: =\n",
            "WARNING:rpy2.rinterface_lib.callbacks:R[write to console]: =\n",
            "WARNING:rpy2.rinterface_lib.callbacks:R[write to console]: =\n",
            "WARNING:rpy2.rinterface_lib.callbacks:R[write to console]: =\n",
            "WARNING:rpy2.rinterface_lib.callbacks:R[write to console]: =\n",
            "WARNING:rpy2.rinterface_lib.callbacks:R[write to console]: =\n",
            "WARNING:rpy2.rinterface_lib.callbacks:R[write to console]: =\n",
            "WARNING:rpy2.rinterface_lib.callbacks:R[write to console]: =\n",
            "WARNING:rpy2.rinterface_lib.callbacks:R[write to console]: =\n",
            "WARNING:rpy2.rinterface_lib.callbacks:R[write to console]: =\n",
            "WARNING:rpy2.rinterface_lib.callbacks:R[write to console]: =\n",
            "WARNING:rpy2.rinterface_lib.callbacks:R[write to console]: \n",
            "\n",
            "WARNING:rpy2.rinterface_lib.callbacks:R[write to console]: downloaded 267 KB\n",
            "\n",
            "\n",
            "WARNING:rpy2.rinterface_lib.callbacks:R[write to console]: \n",
            "\n",
            "WARNING:rpy2.rinterface_lib.callbacks:R[write to console]: \n",
            "WARNING:rpy2.rinterface_lib.callbacks:R[write to console]: The downloaded source packages are in\n",
            "\t‘/tmp/RtmpPNLJBr/downloaded_packages’\n",
            "WARNING:rpy2.rinterface_lib.callbacks:R[write to console]: \n",
            "WARNING:rpy2.rinterface_lib.callbacks:R[write to console]: \n",
            "\n"
          ]
        }
      ]
    },
    {
      "cell_type": "code",
      "metadata": {
        "colab": {
          "base_uri": "https://localhost:8080/"
        },
        "id": "HKeHxpzdA9qG",
        "outputId": "7a3f735a-761c-492a-eb94-dc1fe61bbdb5"
      },
      "source": [
        "strategy = tf.distribute.TPUStrategy(resolver)"
      ],
      "execution_count": null,
      "outputs": [
        {
          "output_type": "stream",
          "name": "stdout",
          "text": [
            "INFO:tensorflow:Found TPU system:\n"
          ]
        },
        {
          "output_type": "stream",
          "name": "stderr",
          "text": [
            "INFO:tensorflow:Found TPU system:\n"
          ]
        },
        {
          "output_type": "stream",
          "name": "stdout",
          "text": [
            "INFO:tensorflow:*** Num TPU Cores: 8\n"
          ]
        },
        {
          "output_type": "stream",
          "name": "stderr",
          "text": [
            "INFO:tensorflow:*** Num TPU Cores: 8\n"
          ]
        },
        {
          "output_type": "stream",
          "name": "stdout",
          "text": [
            "INFO:tensorflow:*** Num TPU Workers: 1\n"
          ]
        },
        {
          "output_type": "stream",
          "name": "stderr",
          "text": [
            "INFO:tensorflow:*** Num TPU Workers: 1\n"
          ]
        },
        {
          "output_type": "stream",
          "name": "stdout",
          "text": [
            "INFO:tensorflow:*** Num TPU Cores Per Worker: 8\n"
          ]
        },
        {
          "output_type": "stream",
          "name": "stderr",
          "text": [
            "INFO:tensorflow:*** Num TPU Cores Per Worker: 8\n"
          ]
        },
        {
          "output_type": "stream",
          "name": "stdout",
          "text": [
            "INFO:tensorflow:*** Available Device: _DeviceAttributes(/job:localhost/replica:0/task:0/device:CPU:0, CPU, 0, 0)\n"
          ]
        },
        {
          "output_type": "stream",
          "name": "stderr",
          "text": [
            "INFO:tensorflow:*** Available Device: _DeviceAttributes(/job:localhost/replica:0/task:0/device:CPU:0, CPU, 0, 0)\n"
          ]
        },
        {
          "output_type": "stream",
          "name": "stdout",
          "text": [
            "INFO:tensorflow:*** Available Device: _DeviceAttributes(/job:worker/replica:0/task:0/device:CPU:0, CPU, 0, 0)\n"
          ]
        },
        {
          "output_type": "stream",
          "name": "stderr",
          "text": [
            "INFO:tensorflow:*** Available Device: _DeviceAttributes(/job:worker/replica:0/task:0/device:CPU:0, CPU, 0, 0)\n"
          ]
        },
        {
          "output_type": "stream",
          "name": "stdout",
          "text": [
            "INFO:tensorflow:*** Available Device: _DeviceAttributes(/job:worker/replica:0/task:0/device:TPU:0, TPU, 0, 0)\n"
          ]
        },
        {
          "output_type": "stream",
          "name": "stderr",
          "text": [
            "INFO:tensorflow:*** Available Device: _DeviceAttributes(/job:worker/replica:0/task:0/device:TPU:0, TPU, 0, 0)\n"
          ]
        },
        {
          "output_type": "stream",
          "name": "stdout",
          "text": [
            "INFO:tensorflow:*** Available Device: _DeviceAttributes(/job:worker/replica:0/task:0/device:TPU:1, TPU, 0, 0)\n"
          ]
        },
        {
          "output_type": "stream",
          "name": "stderr",
          "text": [
            "INFO:tensorflow:*** Available Device: _DeviceAttributes(/job:worker/replica:0/task:0/device:TPU:1, TPU, 0, 0)\n"
          ]
        },
        {
          "output_type": "stream",
          "name": "stdout",
          "text": [
            "INFO:tensorflow:*** Available Device: _DeviceAttributes(/job:worker/replica:0/task:0/device:TPU:2, TPU, 0, 0)\n"
          ]
        },
        {
          "output_type": "stream",
          "name": "stderr",
          "text": [
            "INFO:tensorflow:*** Available Device: _DeviceAttributes(/job:worker/replica:0/task:0/device:TPU:2, TPU, 0, 0)\n"
          ]
        },
        {
          "output_type": "stream",
          "name": "stdout",
          "text": [
            "INFO:tensorflow:*** Available Device: _DeviceAttributes(/job:worker/replica:0/task:0/device:TPU:3, TPU, 0, 0)\n"
          ]
        },
        {
          "output_type": "stream",
          "name": "stderr",
          "text": [
            "INFO:tensorflow:*** Available Device: _DeviceAttributes(/job:worker/replica:0/task:0/device:TPU:3, TPU, 0, 0)\n"
          ]
        },
        {
          "output_type": "stream",
          "name": "stdout",
          "text": [
            "INFO:tensorflow:*** Available Device: _DeviceAttributes(/job:worker/replica:0/task:0/device:TPU:4, TPU, 0, 0)\n"
          ]
        },
        {
          "output_type": "stream",
          "name": "stderr",
          "text": [
            "INFO:tensorflow:*** Available Device: _DeviceAttributes(/job:worker/replica:0/task:0/device:TPU:4, TPU, 0, 0)\n"
          ]
        },
        {
          "output_type": "stream",
          "name": "stdout",
          "text": [
            "INFO:tensorflow:*** Available Device: _DeviceAttributes(/job:worker/replica:0/task:0/device:TPU:5, TPU, 0, 0)\n"
          ]
        },
        {
          "output_type": "stream",
          "name": "stderr",
          "text": [
            "INFO:tensorflow:*** Available Device: _DeviceAttributes(/job:worker/replica:0/task:0/device:TPU:5, TPU, 0, 0)\n"
          ]
        },
        {
          "output_type": "stream",
          "name": "stdout",
          "text": [
            "INFO:tensorflow:*** Available Device: _DeviceAttributes(/job:worker/replica:0/task:0/device:TPU:6, TPU, 0, 0)\n"
          ]
        },
        {
          "output_type": "stream",
          "name": "stderr",
          "text": [
            "INFO:tensorflow:*** Available Device: _DeviceAttributes(/job:worker/replica:0/task:0/device:TPU:6, TPU, 0, 0)\n"
          ]
        },
        {
          "output_type": "stream",
          "name": "stdout",
          "text": [
            "INFO:tensorflow:*** Available Device: _DeviceAttributes(/job:worker/replica:0/task:0/device:TPU:7, TPU, 0, 0)\n"
          ]
        },
        {
          "output_type": "stream",
          "name": "stderr",
          "text": [
            "INFO:tensorflow:*** Available Device: _DeviceAttributes(/job:worker/replica:0/task:0/device:TPU:7, TPU, 0, 0)\n"
          ]
        },
        {
          "output_type": "stream",
          "name": "stdout",
          "text": [
            "INFO:tensorflow:*** Available Device: _DeviceAttributes(/job:worker/replica:0/task:0/device:TPU_SYSTEM:0, TPU_SYSTEM, 0, 0)\n"
          ]
        },
        {
          "output_type": "stream",
          "name": "stderr",
          "text": [
            "INFO:tensorflow:*** Available Device: _DeviceAttributes(/job:worker/replica:0/task:0/device:TPU_SYSTEM:0, TPU_SYSTEM, 0, 0)\n"
          ]
        },
        {
          "output_type": "stream",
          "name": "stdout",
          "text": [
            "INFO:tensorflow:*** Available Device: _DeviceAttributes(/job:worker/replica:0/task:0/device:XLA_CPU:0, XLA_CPU, 0, 0)\n"
          ]
        },
        {
          "output_type": "stream",
          "name": "stderr",
          "text": [
            "INFO:tensorflow:*** Available Device: _DeviceAttributes(/job:worker/replica:0/task:0/device:XLA_CPU:0, XLA_CPU, 0, 0)\n"
          ]
        }
      ]
    },
    {
      "cell_type": "code",
      "metadata": {
        "id": "6s1dfIhFDNdf"
      },
      "source": [
        "%%R\n",
        "# load packages for data manipulation in R\n",
        "p_load(\"tidyverse\", \"googledrive\")"
      ],
      "execution_count": null,
      "outputs": []
    },
    {
      "cell_type": "code",
      "metadata": {
        "id": "Bgcoci3oC3qt"
      },
      "source": [
        "# Silence Output\n",
        "%%capture\n",
        "%%R\n",
        "\n",
        "\n",
        "# killing auth request\n",
        "drive_deauth()\n",
        "drive_user()\n",
        "\n",
        "# retrieving fulll url ID of files\n",
        "public_file = drive_get(as_id(c(\"10i8tM37aqHvD-YH2JK1qZAXzYdawIsgh\",\"1eJ4uXiFqGqsXJ2ut5vex_Lg3BLlUAPjT\",\"1B6pbF90ryhJ-kpu0nQ3FKt6RcSavgCMS\")) )\n",
        "\n",
        "# download the files\n",
        "save_output = 1:3 %>% map(~drive_download(public_file[.,], overwrite = T))\n",
        "\n",
        "# file location for HDF5 & csv datasets\n",
        "airbus_train_path = 'dftrain.h5'\n",
        "airbus_valid_path = 'dfvalid.h5'\n",
        "airbus_valid_groundtruth_path = 'dfvalid_groundtruth.csv'\n",
        "\n",
        "  "
      ],
      "execution_count": null,
      "outputs": []
    },
    {
      "cell_type": "code",
      "metadata": {
        "id": "0RCuIQ0u7Lvr"
      },
      "source": [
        ""
      ],
      "execution_count": null,
      "outputs": []
    },
    {
      "cell_type": "code",
      "metadata": {
        "id": "wPiUgqWENpDP"
      },
      "source": [
        "def prepare_scalograms(df, rows, cols):\n",
        "  \n",
        "  # cast df as numpy array\n",
        "  df_tensor = df.to_numpy()\n",
        "  # reshape df to tensor to rows of df with 120 series with length 512\n",
        "  df_tensor = np.reshape(df_tensor, (df.shape[0],120, 512))\n",
        "  # diagnostics: shape of dataframe\n",
        "  print(df.shape)\n",
        "  # diagnostics: shape of df tensor\n",
        "  print(df_tensor.shape)\n",
        "  # get continuous wavelet transform scales\n",
        "  SC_scales = np.array([2**(i/4) for i in range(1,65)])\n",
        "\n",
        "  print(SC_scales.shape)\n",
        "\n",
        "  # create empty scalograms\n",
        "  df_scalograms = np.empty([rows, cols, 64, 64])\n",
        "  # fill up scalogram\n",
        "  for ii in np.arange(rows):\n",
        "    start_time = time.time()\n",
        "    for jj in np.arange(cols):     \n",
        "\n",
        "      df_scalograms[ii,jj,:,:] =  get_scalogram(df_tensor[ii,jj], SC_scales)\n",
        "      end_time = time.time()\n",
        "      if (jj % (cols/2)) == 0:\n",
        "          print(\"row {} / column {}. Time elaspse from column 0 {} secs\".format(ii, jj, np.round(end_time-start_time,2)))\n",
        "  reshape_list = df_scalograms.shape\n",
        "  print(df_scalograms.shape)\n",
        "  df_scalograms = df_scalograms.reshape(reshape_list[0] * reshape_list[1], reshape_list[2], reshape_list[3], 1)\n",
        "\n",
        "  return(df_scalograms)\n"
      ],
      "execution_count": null,
      "outputs": []
    },
    {
      "cell_type": "code",
      "metadata": {
        "id": "K7jP5hEdWLLY"
      },
      "source": [
        "def get_scalogram(x, SC_scales):\n",
        "  cwtmatr, freqs = pywt.cwt(x, SC_scales, 'mexh')\n",
        "  a = skimage.measure.block_reduce(cwtmatr, (1,8), np.average)  \n",
        "  return(a)\n",
        "\n",
        "def scalogram_plotter(x, show = False):\n",
        "  plt.imshow(x.reshape(64, 64), cmap = \"jet\", aspect = \"auto\")\n",
        "  if show == True:\n",
        "      plt.show()\n"
      ],
      "execution_count": null,
      "outputs": []
    },
    {
      "cell_type": "code",
      "metadata": {
        "id": "8QafjWDA4h-z"
      },
      "source": [
        "\n",
        "def prepare_dataset(rows_t = 1677, cols_t = 120, rows_v = 594, cols_v = 120):\n",
        "  # read hdf files: training data and validation data and ground truth [labels]\n",
        "  train_df = pd.read_hdf(airbus_train_path)\n",
        "  valid_df = pd.read_hdf(airbus_valid_path)\n",
        "  valid_groundtruth_df = pd.read_csv(airbus_valid_groundtruth_path)\n",
        "\n",
        "  validation_examples = prepare_scalograms(valid_df, rows = rows_v, cols = cols_v)\n",
        "  print(\"Completed validation examples\")\n",
        "\n",
        "  train_examples = prepare_scalograms(train_df, rows = rows_t, cols = cols_t)\n",
        "  print(\"Completed training examples\")\n",
        "\n",
        "  np.savez_compressed('data_set', validation_examples, train_examples)\n",
        "\n",
        "  validation_labels = valid_groundtruth_df['anomaly'].head(rows_v).to_numpy()\n",
        "\n",
        "  train_labels = np.ones([train_examples.shape[0]])\n",
        "\n",
        "  # create dataset to serve the model\n",
        "  # train_dataset = tf.data.Dataset.from_tensor_slices((train_examples, train_labels))\n",
        "  # validation_dataset = tf.data.Dataset.from_tensor_slices((validation_examples, validation_labels))\n",
        "\n",
        "  # Configure dataset batch size and shuffler\n",
        "  # BATCH_SIZE = 10000\n",
        "  # SHUFFLE_BUFFER_SIZE = 10000\n",
        "\n",
        "  # train_dataset = train_dataset.shuffle(SHUFFLE_BUFFER_SIZE).batch(BATCH_SIZE)\n",
        "  # train_dataset = train_dataset.batch(BATCH_SIZE)\n",
        "  # validation_dataset = validation_dataset.batch(BATCH_SIZE)\n",
        "\n",
        "  # Configuring dataset performance\n",
        "  # AUTOTUNE = tf.data.AUTOTUNE\n",
        "\n",
        "  # train_dataset = train_dataset.cache().prefetch(buffer_size=AUTOTUNE)\n",
        "  # validation_dataset = validation_dataset.cache().prefetch(buffer_size=AUTOTUNE)\n",
        "  return(train_examples, train_labels, validation_examples, validation_labels)"
      ],
      "execution_count": null,
      "outputs": []
    },
    {
      "cell_type": "code",
      "metadata": {
        "id": "T_I1uaZygyad"
      },
      "source": [
        "def get_model(tpu = False):\n",
        "\n",
        "  \n",
        "  model = tf.keras.Sequential([\n",
        "                         \n",
        "    tf.keras.layers.InputLayer(input_shape = (64,64,1)),                          \n",
        "    tf.keras.layers.Conv2D(64, kernel_size=2 , strides=2, activation=tf.keras.layers.LeakyReLU(alpha=0.3)),\n",
        "    tf.keras.layers.Conv2D(128, kernel_size=(2,2), strides=(2,2), activation=tf.keras.layers.LeakyReLU(alpha=0.3)),\n",
        "    tf.keras.layers.Dense(32768,  activation=tf.keras.layers.LeakyReLU(alpha=0.3)),\n",
        "    tf.keras.layers.Dense(300, activation=tf.keras.layers.LeakyReLU(alpha=0.3)),\n",
        "    tf.keras.layers.Dense(32768, activation=tf.keras.layers.LeakyReLU(alpha=0.3)),\n",
        "    tf.keras.layers.Conv2DTranspose(128, kernel_size=1, strides=1, activation=tf.keras.layers.LeakyReLU(alpha=0.3)),\n",
        "    tf.keras.layers.Conv2DTranspose(64, kernel_size=2 , strides=2, activation=tf.keras.layers.LeakyReLU(alpha=0.3)),\n",
        "    tf.keras.layers.Conv2DTranspose(1, kernel_size=2 , strides=2, activation=tf.keras.layers.LeakyReLU(alpha=0.3))\n",
        "\n",
        "  ])\n",
        "\n",
        "\n",
        "  #compile the model \n",
        "  model.compile(loss=tf.losses.MeanAbsoluteError(),\n",
        "               optimizer='adam',\n",
        "               metrics=['accuracy'])\n",
        "\n",
        "  return model\n",
        "\n",
        "\n"
      ],
      "execution_count": null,
      "outputs": []
    },
    {
      "cell_type": "code",
      "metadata": {
        "colab": {
          "base_uri": "https://localhost:8080/"
        },
        "id": "tde44niE-hzh",
        "outputId": "0b361738-6425-40e5-df63-7ebae0b8f57a"
      },
      "source": [
        "airbus_train_path = 'dftrain.h5'\n",
        "airbus_valid_path = 'dfvalid.h5'\n",
        "airbus_valid_groundtruth_path = 'dfvalid_groundtruth.csv'\n",
        "\n",
        "with strategy.scope():\n",
        "  rows_t, cols_t, rows_v, cols_v = 1677, 120, 594, 120\n",
        "  # rows_t, cols_t, rows_v, cols_v = 4, 4, 4, 4\n",
        "  # train_ds = prepare_dataset(rows_t = 1677, cols_t = 120, rows_v = 594, cols_v = 120)\n",
        "  train_examples, train_labels, validation_examples, validation_labels = prepare_dataset(rows_t, cols_t, rows_v, cols_v)"
      ],
      "execution_count": null,
      "outputs": [
        {
          "output_type": "stream",
          "name": "stdout",
          "text": [
            "(594, 61440)\n",
            "(594, 120, 512)\n",
            "(64,)\n",
            "row 0 / column 0. Time elaspse from column 0 0.78 secs\n",
            "row 0 / column 60. Time elaspse from column 0 47.76 secs\n",
            "row 1 / column 0. Time elaspse from column 0 0.73 secs\n",
            "row 1 / column 60. Time elaspse from column 0 44.9 secs\n",
            "row 2 / column 0. Time elaspse from column 0 0.74 secs\n",
            "row 2 / column 60. Time elaspse from column 0 45.0 secs\n",
            "row 3 / column 0. Time elaspse from column 0 0.73 secs\n",
            "row 3 / column 60. Time elaspse from column 0 44.98 secs\n",
            "row 4 / column 0. Time elaspse from column 0 0.73 secs\n",
            "row 4 / column 60. Time elaspse from column 0 44.77 secs\n",
            "row 5 / column 0. Time elaspse from column 0 0.74 secs\n",
            "row 5 / column 60. Time elaspse from column 0 44.75 secs\n",
            "row 6 / column 0. Time elaspse from column 0 0.72 secs\n",
            "row 6 / column 60. Time elaspse from column 0 44.9 secs\n",
            "row 7 / column 0. Time elaspse from column 0 0.73 secs\n",
            "row 7 / column 60. Time elaspse from column 0 44.81 secs\n",
            "row 8 / column 0. Time elaspse from column 0 0.74 secs\n",
            "row 8 / column 60. Time elaspse from column 0 44.75 secs\n",
            "row 9 / column 0. Time elaspse from column 0 0.74 secs\n",
            "row 9 / column 60. Time elaspse from column 0 44.73 secs\n",
            "row 10 / column 0. Time elaspse from column 0 0.73 secs\n",
            "row 10 / column 60. Time elaspse from column 0 44.69 secs\n",
            "row 11 / column 0. Time elaspse from column 0 0.74 secs\n",
            "row 11 / column 60. Time elaspse from column 0 44.6 secs\n",
            "row 12 / column 0. Time elaspse from column 0 0.73 secs\n",
            "row 12 / column 60. Time elaspse from column 0 44.66 secs\n",
            "row 13 / column 0. Time elaspse from column 0 0.73 secs\n",
            "row 13 / column 60. Time elaspse from column 0 44.89 secs\n",
            "row 14 / column 0. Time elaspse from column 0 0.74 secs\n",
            "row 14 / column 60. Time elaspse from column 0 45.2 secs\n",
            "row 15 / column 0. Time elaspse from column 0 0.73 secs\n",
            "row 15 / column 60. Time elaspse from column 0 44.88 secs\n",
            "row 16 / column 0. Time elaspse from column 0 0.74 secs\n",
            "row 16 / column 60. Time elaspse from column 0 45.04 secs\n",
            "row 17 / column 0. Time elaspse from column 0 0.74 secs\n",
            "row 17 / column 60. Time elaspse from column 0 45.2 secs\n",
            "row 18 / column 0. Time elaspse from column 0 0.77 secs\n",
            "row 18 / column 60. Time elaspse from column 0 45.24 secs\n",
            "row 19 / column 0. Time elaspse from column 0 0.74 secs\n",
            "row 19 / column 60. Time elaspse from column 0 45.24 secs\n",
            "row 20 / column 0. Time elaspse from column 0 0.74 secs\n",
            "row 20 / column 60. Time elaspse from column 0 45.27 secs\n",
            "row 21 / column 0. Time elaspse from column 0 0.74 secs\n",
            "row 21 / column 60. Time elaspse from column 0 45.27 secs\n",
            "row 22 / column 0. Time elaspse from column 0 0.74 secs\n",
            "row 22 / column 60. Time elaspse from column 0 45.15 secs\n",
            "row 23 / column 0. Time elaspse from column 0 0.73 secs\n",
            "row 23 / column 60. Time elaspse from column 0 45.13 secs\n",
            "row 24 / column 0. Time elaspse from column 0 0.73 secs\n",
            "row 24 / column 60. Time elaspse from column 0 44.73 secs\n",
            "row 25 / column 0. Time elaspse from column 0 0.72 secs\n",
            "row 25 / column 60. Time elaspse from column 0 44.93 secs\n",
            "row 26 / column 0. Time elaspse from column 0 0.72 secs\n",
            "row 26 / column 60. Time elaspse from column 0 45.06 secs\n",
            "row 27 / column 0. Time elaspse from column 0 0.74 secs\n",
            "row 27 / column 60. Time elaspse from column 0 45.65 secs\n",
            "row 28 / column 0. Time elaspse from column 0 0.74 secs\n",
            "row 28 / column 60. Time elaspse from column 0 44.99 secs\n",
            "row 29 / column 0. Time elaspse from column 0 0.74 secs\n",
            "row 29 / column 60. Time elaspse from column 0 45.34 secs\n",
            "row 30 / column 0. Time elaspse from column 0 0.73 secs\n",
            "row 30 / column 60. Time elaspse from column 0 44.99 secs\n",
            "row 31 / column 0. Time elaspse from column 0 0.73 secs\n",
            "row 31 / column 60. Time elaspse from column 0 45.06 secs\n",
            "row 32 / column 0. Time elaspse from column 0 0.73 secs\n",
            "row 32 / column 60. Time elaspse from column 0 44.77 secs\n",
            "row 33 / column 0. Time elaspse from column 0 0.73 secs\n",
            "row 33 / column 60. Time elaspse from column 0 45.16 secs\n",
            "row 34 / column 0. Time elaspse from column 0 0.73 secs\n",
            "row 34 / column 60. Time elaspse from column 0 44.77 secs\n",
            "row 35 / column 0. Time elaspse from column 0 0.73 secs\n",
            "row 35 / column 60. Time elaspse from column 0 44.66 secs\n",
            "row 36 / column 0. Time elaspse from column 0 0.73 secs\n",
            "row 36 / column 60. Time elaspse from column 0 44.78 secs\n",
            "row 37 / column 0. Time elaspse from column 0 0.75 secs\n",
            "row 37 / column 60. Time elaspse from column 0 44.63 secs\n",
            "row 38 / column 0. Time elaspse from column 0 0.73 secs\n",
            "row 38 / column 60. Time elaspse from column 0 44.69 secs\n",
            "row 39 / column 0. Time elaspse from column 0 0.73 secs\n",
            "row 39 / column 60. Time elaspse from column 0 44.82 secs\n",
            "row 40 / column 0. Time elaspse from column 0 0.73 secs\n",
            "row 40 / column 60. Time elaspse from column 0 45.12 secs\n",
            "row 41 / column 0. Time elaspse from column 0 0.75 secs\n",
            "row 41 / column 60. Time elaspse from column 0 45.17 secs\n",
            "row 42 / column 0. Time elaspse from column 0 0.74 secs\n",
            "row 42 / column 60. Time elaspse from column 0 44.85 secs\n",
            "row 43 / column 0. Time elaspse from column 0 0.73 secs\n",
            "row 43 / column 60. Time elaspse from column 0 44.93 secs\n",
            "row 44 / column 0. Time elaspse from column 0 0.72 secs\n",
            "row 44 / column 60. Time elaspse from column 0 45.54 secs\n",
            "row 45 / column 0. Time elaspse from column 0 0.73 secs\n",
            "row 45 / column 60. Time elaspse from column 0 45.59 secs\n",
            "row 46 / column 0. Time elaspse from column 0 0.74 secs\n",
            "row 46 / column 60. Time elaspse from column 0 44.84 secs\n",
            "row 47 / column 0. Time elaspse from column 0 0.73 secs\n",
            "row 47 / column 60. Time elaspse from column 0 44.76 secs\n",
            "row 48 / column 0. Time elaspse from column 0 0.75 secs\n",
            "row 48 / column 60. Time elaspse from column 0 45.06 secs\n",
            "row 49 / column 0. Time elaspse from column 0 0.74 secs\n",
            "row 49 / column 60. Time elaspse from column 0 44.87 secs\n",
            "row 50 / column 0. Time elaspse from column 0 0.73 secs\n",
            "row 50 / column 60. Time elaspse from column 0 44.82 secs\n",
            "row 51 / column 0. Time elaspse from column 0 0.73 secs\n",
            "row 51 / column 60. Time elaspse from column 0 45.08 secs\n",
            "row 52 / column 0. Time elaspse from column 0 0.73 secs\n",
            "row 52 / column 60. Time elaspse from column 0 44.75 secs\n",
            "row 53 / column 0. Time elaspse from column 0 0.74 secs\n",
            "row 53 / column 60. Time elaspse from column 0 44.74 secs\n",
            "row 54 / column 0. Time elaspse from column 0 0.74 secs\n",
            "row 54 / column 60. Time elaspse from column 0 44.75 secs\n",
            "row 55 / column 0. Time elaspse from column 0 0.73 secs\n",
            "row 55 / column 60. Time elaspse from column 0 44.77 secs\n",
            "row 56 / column 0. Time elaspse from column 0 0.73 secs\n",
            "row 56 / column 60. Time elaspse from column 0 44.71 secs\n",
            "row 57 / column 0. Time elaspse from column 0 0.74 secs\n",
            "row 57 / column 60. Time elaspse from column 0 44.98 secs\n",
            "row 58 / column 0. Time elaspse from column 0 0.75 secs\n",
            "row 58 / column 60. Time elaspse from column 0 45.48 secs\n",
            "row 59 / column 0. Time elaspse from column 0 0.73 secs\n",
            "row 59 / column 60. Time elaspse from column 0 45.39 secs\n",
            "row 60 / column 0. Time elaspse from column 0 0.75 secs\n",
            "row 60 / column 60. Time elaspse from column 0 45.4 secs\n",
            "row 61 / column 0. Time elaspse from column 0 0.74 secs\n",
            "row 61 / column 60. Time elaspse from column 0 45.23 secs\n",
            "row 62 / column 0. Time elaspse from column 0 0.74 secs\n",
            "row 62 / column 60. Time elaspse from column 0 45.15 secs\n",
            "row 63 / column 0. Time elaspse from column 0 0.74 secs\n",
            "row 63 / column 60. Time elaspse from column 0 45.23 secs\n",
            "row 64 / column 0. Time elaspse from column 0 0.74 secs\n",
            "row 64 / column 60. Time elaspse from column 0 45.25 secs\n",
            "row 65 / column 0. Time elaspse from column 0 0.74 secs\n",
            "row 65 / column 60. Time elaspse from column 0 45.13 secs\n",
            "row 66 / column 0. Time elaspse from column 0 0.74 secs\n",
            "row 66 / column 60. Time elaspse from column 0 45.15 secs\n",
            "row 67 / column 0. Time elaspse from column 0 0.73 secs\n",
            "row 67 / column 60. Time elaspse from column 0 45.15 secs\n",
            "row 68 / column 0. Time elaspse from column 0 0.74 secs\n",
            "row 68 / column 60. Time elaspse from column 0 45.36 secs\n",
            "row 69 / column 0. Time elaspse from column 0 0.74 secs\n",
            "row 69 / column 60. Time elaspse from column 0 45.29 secs\n",
            "row 70 / column 0. Time elaspse from column 0 0.74 secs\n",
            "row 70 / column 60. Time elaspse from column 0 45.39 secs\n",
            "row 71 / column 0. Time elaspse from column 0 0.74 secs\n",
            "row 71 / column 60. Time elaspse from column 0 46.07 secs\n",
            "row 72 / column 0. Time elaspse from column 0 0.74 secs\n",
            "row 72 / column 60. Time elaspse from column 0 45.55 secs\n",
            "row 73 / column 0. Time elaspse from column 0 0.75 secs\n",
            "row 73 / column 60. Time elaspse from column 0 45.4 secs\n",
            "row 74 / column 0. Time elaspse from column 0 0.76 secs\n",
            "row 74 / column 60. Time elaspse from column 0 45.17 secs\n",
            "row 75 / column 0. Time elaspse from column 0 0.74 secs\n",
            "row 75 / column 60. Time elaspse from column 0 45.39 secs\n",
            "row 76 / column 0. Time elaspse from column 0 0.74 secs\n",
            "row 76 / column 60. Time elaspse from column 0 45.31 secs\n",
            "row 77 / column 0. Time elaspse from column 0 0.74 secs\n",
            "row 77 / column 60. Time elaspse from column 0 45.17 secs\n",
            "row 78 / column 0. Time elaspse from column 0 0.74 secs\n",
            "row 78 / column 60. Time elaspse from column 0 44.85 secs\n",
            "row 79 / column 0. Time elaspse from column 0 0.75 secs\n",
            "row 79 / column 60. Time elaspse from column 0 44.65 secs\n",
            "row 80 / column 0. Time elaspse from column 0 0.73 secs\n",
            "row 80 / column 60. Time elaspse from column 0 44.87 secs\n",
            "row 81 / column 0. Time elaspse from column 0 0.73 secs\n",
            "row 81 / column 60. Time elaspse from column 0 44.62 secs\n",
            "row 82 / column 0. Time elaspse from column 0 0.74 secs\n",
            "row 82 / column 60. Time elaspse from column 0 44.91 secs\n",
            "row 83 / column 0. Time elaspse from column 0 0.74 secs\n",
            "row 83 / column 60. Time elaspse from column 0 44.91 secs\n",
            "row 84 / column 0. Time elaspse from column 0 0.73 secs\n",
            "row 84 / column 60. Time elaspse from column 0 44.87 secs\n",
            "row 85 / column 0. Time elaspse from column 0 0.73 secs\n",
            "row 85 / column 60. Time elaspse from column 0 44.96 secs\n",
            "row 86 / column 0. Time elaspse from column 0 0.74 secs\n",
            "row 86 / column 60. Time elaspse from column 0 44.96 secs\n",
            "row 87 / column 0. Time elaspse from column 0 0.73 secs\n",
            "row 87 / column 60. Time elaspse from column 0 45.06 secs\n",
            "row 88 / column 0. Time elaspse from column 0 0.73 secs\n",
            "row 88 / column 60. Time elaspse from column 0 44.87 secs\n",
            "row 89 / column 0. Time elaspse from column 0 0.73 secs\n",
            "row 89 / column 60. Time elaspse from column 0 44.86 secs\n",
            "row 90 / column 0. Time elaspse from column 0 0.75 secs\n",
            "row 90 / column 60. Time elaspse from column 0 45.22 secs\n",
            "row 91 / column 0. Time elaspse from column 0 0.75 secs\n",
            "row 91 / column 60. Time elaspse from column 0 45.0 secs\n",
            "row 92 / column 0. Time elaspse from column 0 0.74 secs\n",
            "row 92 / column 60. Time elaspse from column 0 44.89 secs\n",
            "row 93 / column 0. Time elaspse from column 0 0.75 secs\n",
            "row 93 / column 60. Time elaspse from column 0 44.78 secs\n",
            "row 94 / column 0. Time elaspse from column 0 0.74 secs\n",
            "row 94 / column 60. Time elaspse from column 0 45.02 secs\n",
            "row 95 / column 0. Time elaspse from column 0 0.73 secs\n",
            "row 95 / column 60. Time elaspse from column 0 44.79 secs\n",
            "row 96 / column 0. Time elaspse from column 0 0.73 secs\n",
            "row 96 / column 60. Time elaspse from column 0 44.97 secs\n",
            "row 97 / column 0. Time elaspse from column 0 0.73 secs\n",
            "row 97 / column 60. Time elaspse from column 0 44.73 secs\n",
            "row 98 / column 0. Time elaspse from column 0 0.73 secs\n",
            "row 98 / column 60. Time elaspse from column 0 44.9 secs\n",
            "row 99 / column 0. Time elaspse from column 0 0.73 secs\n",
            "row 99 / column 60. Time elaspse from column 0 44.75 secs\n",
            "row 100 / column 0. Time elaspse from column 0 0.73 secs\n",
            "row 100 / column 60. Time elaspse from column 0 44.63 secs\n",
            "row 101 / column 0. Time elaspse from column 0 0.73 secs\n",
            "row 101 / column 60. Time elaspse from column 0 44.68 secs\n",
            "row 102 / column 0. Time elaspse from column 0 0.73 secs\n",
            "row 102 / column 60. Time elaspse from column 0 44.85 secs\n",
            "row 103 / column 0. Time elaspse from column 0 0.74 secs\n",
            "row 103 / column 60. Time elaspse from column 0 44.79 secs\n",
            "row 104 / column 0. Time elaspse from column 0 0.73 secs\n",
            "row 104 / column 60. Time elaspse from column 0 44.63 secs\n",
            "row 105 / column 0. Time elaspse from column 0 0.73 secs\n",
            "row 105 / column 60. Time elaspse from column 0 44.7 secs\n",
            "row 106 / column 0. Time elaspse from column 0 0.73 secs\n",
            "row 106 / column 60. Time elaspse from column 0 44.78 secs\n",
            "row 107 / column 0. Time elaspse from column 0 0.73 secs\n",
            "row 107 / column 60. Time elaspse from column 0 44.83 secs\n",
            "row 108 / column 0. Time elaspse from column 0 0.73 secs\n",
            "row 108 / column 60. Time elaspse from column 0 44.75 secs\n",
            "row 109 / column 0. Time elaspse from column 0 0.73 secs\n",
            "row 109 / column 60. Time elaspse from column 0 44.89 secs\n",
            "row 110 / column 0. Time elaspse from column 0 0.75 secs\n",
            "row 110 / column 60. Time elaspse from column 0 44.52 secs\n",
            "row 111 / column 0. Time elaspse from column 0 0.73 secs\n",
            "row 111 / column 60. Time elaspse from column 0 44.54 secs\n",
            "row 112 / column 0. Time elaspse from column 0 0.72 secs\n",
            "row 112 / column 60. Time elaspse from column 0 44.87 secs\n",
            "row 113 / column 0. Time elaspse from column 0 0.73 secs\n",
            "row 113 / column 60. Time elaspse from column 0 44.65 secs\n",
            "row 114 / column 0. Time elaspse from column 0 0.74 secs\n",
            "row 114 / column 60. Time elaspse from column 0 44.58 secs\n",
            "row 115 / column 0. Time elaspse from column 0 0.73 secs\n",
            "row 115 / column 60. Time elaspse from column 0 44.62 secs\n",
            "row 116 / column 0. Time elaspse from column 0 0.73 secs\n",
            "row 116 / column 60. Time elaspse from column 0 44.76 secs\n",
            "row 117 / column 0. Time elaspse from column 0 0.74 secs\n",
            "row 117 / column 60. Time elaspse from column 0 44.8 secs\n",
            "row 118 / column 0. Time elaspse from column 0 0.73 secs\n",
            "row 118 / column 60. Time elaspse from column 0 44.57 secs\n",
            "row 119 / column 0. Time elaspse from column 0 0.73 secs\n",
            "row 119 / column 60. Time elaspse from column 0 44.63 secs\n",
            "row 120 / column 0. Time elaspse from column 0 0.74 secs\n",
            "row 120 / column 60. Time elaspse from column 0 44.72 secs\n",
            "row 121 / column 0. Time elaspse from column 0 0.74 secs\n",
            "row 121 / column 60. Time elaspse from column 0 44.86 secs\n",
            "row 122 / column 0. Time elaspse from column 0 0.73 secs\n",
            "row 122 / column 60. Time elaspse from column 0 44.72 secs\n",
            "row 123 / column 0. Time elaspse from column 0 0.74 secs\n",
            "row 123 / column 60. Time elaspse from column 0 44.69 secs\n",
            "row 124 / column 0. Time elaspse from column 0 0.73 secs\n",
            "row 124 / column 60. Time elaspse from column 0 44.76 secs\n",
            "row 125 / column 0. Time elaspse from column 0 0.73 secs\n",
            "row 125 / column 60. Time elaspse from column 0 44.68 secs\n",
            "row 126 / column 0. Time elaspse from column 0 0.72 secs\n",
            "row 126 / column 60. Time elaspse from column 0 44.75 secs\n",
            "row 127 / column 0. Time elaspse from column 0 0.74 secs\n",
            "row 127 / column 60. Time elaspse from column 0 44.64 secs\n",
            "row 128 / column 0. Time elaspse from column 0 0.74 secs\n",
            "row 128 / column 60. Time elaspse from column 0 44.78 secs\n",
            "row 129 / column 0. Time elaspse from column 0 0.73 secs\n",
            "row 129 / column 60. Time elaspse from column 0 44.7 secs\n",
            "row 130 / column 0. Time elaspse from column 0 0.73 secs\n",
            "row 130 / column 60. Time elaspse from column 0 44.64 secs\n",
            "row 131 / column 0. Time elaspse from column 0 0.73 secs\n",
            "row 131 / column 60. Time elaspse from column 0 44.68 secs\n",
            "row 132 / column 0. Time elaspse from column 0 0.74 secs\n",
            "row 132 / column 60. Time elaspse from column 0 44.73 secs\n",
            "row 133 / column 0. Time elaspse from column 0 0.73 secs\n",
            "row 133 / column 60. Time elaspse from column 0 44.7 secs\n",
            "row 134 / column 0. Time elaspse from column 0 0.73 secs\n",
            "row 134 / column 60. Time elaspse from column 0 44.68 secs\n",
            "row 135 / column 0. Time elaspse from column 0 0.73 secs\n",
            "row 135 / column 60. Time elaspse from column 0 44.59 secs\n",
            "row 136 / column 0. Time elaspse from column 0 0.73 secs\n",
            "row 136 / column 60. Time elaspse from column 0 44.72 secs\n",
            "row 137 / column 0. Time elaspse from column 0 0.74 secs\n",
            "row 137 / column 60. Time elaspse from column 0 44.87 secs\n",
            "row 138 / column 0. Time elaspse from column 0 0.73 secs\n",
            "row 138 / column 60. Time elaspse from column 0 44.62 secs\n",
            "row 139 / column 0. Time elaspse from column 0 0.74 secs\n",
            "row 139 / column 60. Time elaspse from column 0 44.72 secs\n",
            "row 140 / column 0. Time elaspse from column 0 0.73 secs\n",
            "row 140 / column 60. Time elaspse from column 0 44.62 secs\n",
            "row 141 / column 0. Time elaspse from column 0 0.72 secs\n",
            "row 141 / column 60. Time elaspse from column 0 44.71 secs\n",
            "row 142 / column 0. Time elaspse from column 0 0.74 secs\n",
            "row 142 / column 60. Time elaspse from column 0 45.25 secs\n",
            "row 143 / column 0. Time elaspse from column 0 0.73 secs\n",
            "row 143 / column 60. Time elaspse from column 0 44.69 secs\n",
            "row 144 / column 0. Time elaspse from column 0 0.74 secs\n",
            "row 144 / column 60. Time elaspse from column 0 44.75 secs\n",
            "row 145 / column 0. Time elaspse from column 0 0.73 secs\n",
            "row 145 / column 60. Time elaspse from column 0 44.51 secs\n",
            "row 146 / column 0. Time elaspse from column 0 0.73 secs\n",
            "row 146 / column 60. Time elaspse from column 0 44.58 secs\n",
            "row 147 / column 0. Time elaspse from column 0 0.73 secs\n",
            "row 147 / column 60. Time elaspse from column 0 44.52 secs\n",
            "row 148 / column 0. Time elaspse from column 0 0.73 secs\n",
            "row 148 / column 60. Time elaspse from column 0 44.5 secs\n",
            "row 149 / column 0. Time elaspse from column 0 0.73 secs\n",
            "row 149 / column 60. Time elaspse from column 0 44.59 secs\n",
            "row 150 / column 0. Time elaspse from column 0 0.73 secs\n",
            "row 150 / column 60. Time elaspse from column 0 44.75 secs\n",
            "row 151 / column 0. Time elaspse from column 0 0.73 secs\n",
            "row 151 / column 60. Time elaspse from column 0 44.76 secs\n",
            "row 152 / column 0. Time elaspse from column 0 0.73 secs\n",
            "row 152 / column 60. Time elaspse from column 0 44.85 secs\n",
            "row 153 / column 0. Time elaspse from column 0 0.74 secs\n",
            "row 153 / column 60. Time elaspse from column 0 44.69 secs\n",
            "row 154 / column 0. Time elaspse from column 0 0.74 secs\n",
            "row 154 / column 60. Time elaspse from column 0 44.62 secs\n",
            "row 155 / column 0. Time elaspse from column 0 0.73 secs\n",
            "row 155 / column 60. Time elaspse from column 0 44.57 secs\n",
            "row 156 / column 0. Time elaspse from column 0 0.73 secs\n",
            "row 156 / column 60. Time elaspse from column 0 44.43 secs\n",
            "row 157 / column 0. Time elaspse from column 0 0.74 secs\n",
            "row 157 / column 60. Time elaspse from column 0 44.63 secs\n",
            "row 158 / column 0. Time elaspse from column 0 0.73 secs\n",
            "row 158 / column 60. Time elaspse from column 0 44.66 secs\n",
            "row 159 / column 0. Time elaspse from column 0 0.73 secs\n",
            "row 159 / column 60. Time elaspse from column 0 44.74 secs\n",
            "row 160 / column 0. Time elaspse from column 0 0.73 secs\n",
            "row 160 / column 60. Time elaspse from column 0 44.54 secs\n",
            "row 161 / column 0. Time elaspse from column 0 0.73 secs\n",
            "row 161 / column 60. Time elaspse from column 0 44.74 secs\n",
            "row 162 / column 0. Time elaspse from column 0 0.73 secs\n",
            "row 162 / column 60. Time elaspse from column 0 44.7 secs\n",
            "row 163 / column 0. Time elaspse from column 0 0.73 secs\n",
            "row 163 / column 60. Time elaspse from column 0 44.71 secs\n",
            "row 164 / column 0. Time elaspse from column 0 0.73 secs\n",
            "row 164 / column 60. Time elaspse from column 0 44.58 secs\n",
            "row 165 / column 0. Time elaspse from column 0 0.73 secs\n",
            "row 165 / column 60. Time elaspse from column 0 44.73 secs\n",
            "row 166 / column 0. Time elaspse from column 0 0.73 secs\n",
            "row 166 / column 60. Time elaspse from column 0 44.64 secs\n",
            "row 167 / column 0. Time elaspse from column 0 0.72 secs\n",
            "row 167 / column 60. Time elaspse from column 0 44.61 secs\n",
            "row 168 / column 0. Time elaspse from column 0 0.72 secs\n",
            "row 168 / column 60. Time elaspse from column 0 44.58 secs\n",
            "row 169 / column 0. Time elaspse from column 0 0.73 secs\n",
            "row 169 / column 60. Time elaspse from column 0 44.71 secs\n",
            "row 170 / column 0. Time elaspse from column 0 0.74 secs\n",
            "row 170 / column 60. Time elaspse from column 0 44.64 secs\n",
            "row 171 / column 0. Time elaspse from column 0 0.74 secs\n",
            "row 171 / column 60. Time elaspse from column 0 44.79 secs\n",
            "row 172 / column 0. Time elaspse from column 0 0.74 secs\n",
            "row 172 / column 60. Time elaspse from column 0 44.68 secs\n",
            "row 173 / column 0. Time elaspse from column 0 0.73 secs\n",
            "row 173 / column 60. Time elaspse from column 0 44.85 secs\n",
            "row 174 / column 0. Time elaspse from column 0 0.73 secs\n",
            "row 174 / column 60. Time elaspse from column 0 44.63 secs\n",
            "row 175 / column 0. Time elaspse from column 0 0.72 secs\n",
            "row 175 / column 60. Time elaspse from column 0 44.65 secs\n",
            "row 176 / column 0. Time elaspse from column 0 0.73 secs\n",
            "row 176 / column 60. Time elaspse from column 0 44.64 secs\n",
            "row 177 / column 0. Time elaspse from column 0 0.74 secs\n",
            "row 177 / column 60. Time elaspse from column 0 44.66 secs\n",
            "row 178 / column 0. Time elaspse from column 0 0.73 secs\n",
            "row 178 / column 60. Time elaspse from column 0 44.58 secs\n",
            "row 179 / column 0. Time elaspse from column 0 0.73 secs\n",
            "row 179 / column 60. Time elaspse from column 0 44.45 secs\n",
            "row 180 / column 0. Time elaspse from column 0 0.73 secs\n",
            "row 180 / column 60. Time elaspse from column 0 44.59 secs\n",
            "row 181 / column 0. Time elaspse from column 0 0.74 secs\n",
            "row 181 / column 60. Time elaspse from column 0 44.69 secs\n",
            "row 182 / column 0. Time elaspse from column 0 0.73 secs\n",
            "row 182 / column 60. Time elaspse from column 0 44.53 secs\n",
            "row 183 / column 0. Time elaspse from column 0 0.73 secs\n",
            "row 183 / column 60. Time elaspse from column 0 44.51 secs\n",
            "row 184 / column 0. Time elaspse from column 0 0.72 secs\n",
            "row 184 / column 60. Time elaspse from column 0 44.6 secs\n",
            "row 185 / column 0. Time elaspse from column 0 0.73 secs\n",
            "row 185 / column 60. Time elaspse from column 0 44.51 secs\n",
            "row 186 / column 0. Time elaspse from column 0 0.74 secs\n",
            "row 186 / column 60. Time elaspse from column 0 44.57 secs\n",
            "row 187 / column 0. Time elaspse from column 0 0.74 secs\n",
            "row 187 / column 60. Time elaspse from column 0 44.71 secs\n",
            "row 188 / column 0. Time elaspse from column 0 0.73 secs\n",
            "row 188 / column 60. Time elaspse from column 0 44.52 secs\n",
            "row 189 / column 0. Time elaspse from column 0 0.74 secs\n",
            "row 189 / column 60. Time elaspse from column 0 44.59 secs\n",
            "row 190 / column 0. Time elaspse from column 0 0.73 secs\n",
            "row 190 / column 60. Time elaspse from column 0 44.57 secs\n",
            "row 191 / column 0. Time elaspse from column 0 0.74 secs\n",
            "row 191 / column 60. Time elaspse from column 0 44.68 secs\n",
            "row 192 / column 0. Time elaspse from column 0 0.74 secs\n",
            "row 192 / column 60. Time elaspse from column 0 44.56 secs\n",
            "row 193 / column 0. Time elaspse from column 0 0.74 secs\n",
            "row 193 / column 60. Time elaspse from column 0 44.57 secs\n",
            "row 194 / column 0. Time elaspse from column 0 0.73 secs\n",
            "row 194 / column 60. Time elaspse from column 0 44.61 secs\n",
            "row 195 / column 0. Time elaspse from column 0 0.72 secs\n",
            "row 195 / column 60. Time elaspse from column 0 44.5 secs\n",
            "row 196 / column 0. Time elaspse from column 0 0.72 secs\n",
            "row 196 / column 60. Time elaspse from column 0 44.53 secs\n",
            "row 197 / column 0. Time elaspse from column 0 1.08 secs\n",
            "row 197 / column 60. Time elaspse from column 0 45.09 secs\n",
            "row 198 / column 0. Time elaspse from column 0 0.74 secs\n",
            "row 198 / column 60. Time elaspse from column 0 44.6 secs\n",
            "row 199 / column 0. Time elaspse from column 0 0.73 secs\n",
            "row 199 / column 60. Time elaspse from column 0 44.51 secs\n",
            "row 200 / column 0. Time elaspse from column 0 0.73 secs\n",
            "row 200 / column 60. Time elaspse from column 0 44.5 secs\n",
            "row 201 / column 0. Time elaspse from column 0 0.73 secs\n",
            "row 201 / column 60. Time elaspse from column 0 44.61 secs\n",
            "row 202 / column 0. Time elaspse from column 0 0.73 secs\n",
            "row 202 / column 60. Time elaspse from column 0 44.57 secs\n",
            "row 203 / column 0. Time elaspse from column 0 0.73 secs\n",
            "row 203 / column 60. Time elaspse from column 0 44.34 secs\n",
            "row 204 / column 0. Time elaspse from column 0 0.73 secs\n",
            "row 204 / column 60. Time elaspse from column 0 44.33 secs\n",
            "row 205 / column 0. Time elaspse from column 0 0.72 secs\n",
            "row 205 / column 60. Time elaspse from column 0 44.37 secs\n",
            "row 206 / column 0. Time elaspse from column 0 0.73 secs\n",
            "row 206 / column 60. Time elaspse from column 0 44.4 secs\n",
            "row 207 / column 0. Time elaspse from column 0 0.73 secs\n",
            "row 207 / column 60. Time elaspse from column 0 44.4 secs\n",
            "row 208 / column 0. Time elaspse from column 0 0.73 secs\n",
            "row 208 / column 60. Time elaspse from column 0 44.35 secs\n",
            "row 209 / column 0. Time elaspse from column 0 0.73 secs\n",
            "row 209 / column 60. Time elaspse from column 0 44.41 secs\n",
            "row 210 / column 0. Time elaspse from column 0 0.72 secs\n",
            "row 210 / column 60. Time elaspse from column 0 44.37 secs\n",
            "row 211 / column 0. Time elaspse from column 0 0.73 secs\n",
            "row 211 / column 60. Time elaspse from column 0 44.37 secs\n",
            "row 212 / column 0. Time elaspse from column 0 0.73 secs\n",
            "row 212 / column 60. Time elaspse from column 0 44.39 secs\n",
            "row 213 / column 0. Time elaspse from column 0 0.73 secs\n",
            "row 213 / column 60. Time elaspse from column 0 44.48 secs\n",
            "row 214 / column 0. Time elaspse from column 0 0.73 secs\n",
            "row 214 / column 60. Time elaspse from column 0 44.42 secs\n",
            "row 215 / column 0. Time elaspse from column 0 0.73 secs\n",
            "row 215 / column 60. Time elaspse from column 0 44.37 secs\n",
            "row 216 / column 0. Time elaspse from column 0 0.73 secs\n",
            "row 216 / column 60. Time elaspse from column 0 44.56 secs\n",
            "row 217 / column 0. Time elaspse from column 0 0.73 secs\n",
            "row 217 / column 60. Time elaspse from column 0 44.42 secs\n",
            "row 218 / column 0. Time elaspse from column 0 0.73 secs\n",
            "row 218 / column 60. Time elaspse from column 0 44.41 secs\n",
            "row 219 / column 0. Time elaspse from column 0 0.73 secs\n",
            "row 219 / column 60. Time elaspse from column 0 44.37 secs\n",
            "row 220 / column 0. Time elaspse from column 0 0.73 secs\n",
            "row 220 / column 60. Time elaspse from column 0 44.3 secs\n",
            "row 221 / column 0. Time elaspse from column 0 0.72 secs\n",
            "row 221 / column 60. Time elaspse from column 0 44.38 secs\n",
            "row 222 / column 0. Time elaspse from column 0 0.73 secs\n",
            "row 222 / column 60. Time elaspse from column 0 44.49 secs\n",
            "row 223 / column 0. Time elaspse from column 0 0.73 secs\n",
            "row 223 / column 60. Time elaspse from column 0 44.32 secs\n",
            "row 224 / column 0. Time elaspse from column 0 0.72 secs\n",
            "row 224 / column 60. Time elaspse from column 0 44.68 secs\n",
            "row 225 / column 0. Time elaspse from column 0 0.73 secs\n",
            "row 225 / column 60. Time elaspse from column 0 44.44 secs\n",
            "row 226 / column 0. Time elaspse from column 0 0.73 secs\n",
            "row 226 / column 60. Time elaspse from column 0 44.39 secs\n",
            "row 227 / column 0. Time elaspse from column 0 0.73 secs\n",
            "row 227 / column 60. Time elaspse from column 0 44.4 secs\n",
            "row 228 / column 0. Time elaspse from column 0 0.73 secs\n",
            "row 228 / column 60. Time elaspse from column 0 44.35 secs\n",
            "row 229 / column 0. Time elaspse from column 0 0.73 secs\n",
            "row 229 / column 60. Time elaspse from column 0 44.37 secs\n",
            "row 230 / column 0. Time elaspse from column 0 0.72 secs\n",
            "row 230 / column 60. Time elaspse from column 0 44.3 secs\n",
            "row 231 / column 0. Time elaspse from column 0 0.73 secs\n",
            "row 231 / column 60. Time elaspse from column 0 44.3 secs\n",
            "row 232 / column 0. Time elaspse from column 0 0.73 secs\n",
            "row 232 / column 60. Time elaspse from column 0 44.45 secs\n",
            "row 233 / column 0. Time elaspse from column 0 0.73 secs\n",
            "row 233 / column 60. Time elaspse from column 0 44.37 secs\n",
            "row 234 / column 0. Time elaspse from column 0 0.73 secs\n",
            "row 234 / column 60. Time elaspse from column 0 44.39 secs\n",
            "row 235 / column 0. Time elaspse from column 0 0.73 secs\n",
            "row 235 / column 60. Time elaspse from column 0 44.36 secs\n",
            "row 236 / column 0. Time elaspse from column 0 0.72 secs\n",
            "row 236 / column 60. Time elaspse from column 0 44.39 secs\n",
            "row 237 / column 0. Time elaspse from column 0 0.72 secs\n",
            "row 237 / column 60. Time elaspse from column 0 44.33 secs\n",
            "row 238 / column 0. Time elaspse from column 0 0.73 secs\n",
            "row 238 / column 60. Time elaspse from column 0 44.49 secs\n",
            "row 239 / column 0. Time elaspse from column 0 0.73 secs\n",
            "row 239 / column 60. Time elaspse from column 0 44.33 secs\n",
            "row 240 / column 0. Time elaspse from column 0 0.73 secs\n",
            "row 240 / column 60. Time elaspse from column 0 44.34 secs\n",
            "row 241 / column 0. Time elaspse from column 0 0.73 secs\n",
            "row 241 / column 60. Time elaspse from column 0 44.31 secs\n",
            "row 242 / column 0. Time elaspse from column 0 0.74 secs\n",
            "row 242 / column 60. Time elaspse from column 0 44.35 secs\n",
            "row 243 / column 0. Time elaspse from column 0 0.72 secs\n",
            "row 243 / column 60. Time elaspse from column 0 44.53 secs\n",
            "row 244 / column 0. Time elaspse from column 0 0.73 secs\n",
            "row 244 / column 60. Time elaspse from column 0 44.52 secs\n",
            "row 245 / column 0. Time elaspse from column 0 0.72 secs\n",
            "row 245 / column 60. Time elaspse from column 0 44.54 secs\n",
            "row 246 / column 0. Time elaspse from column 0 0.73 secs\n",
            "row 246 / column 60. Time elaspse from column 0 44.43 secs\n",
            "row 247 / column 0. Time elaspse from column 0 0.73 secs\n",
            "row 247 / column 60. Time elaspse from column 0 44.49 secs\n",
            "row 248 / column 0. Time elaspse from column 0 0.73 secs\n",
            "row 248 / column 60. Time elaspse from column 0 44.34 secs\n",
            "row 249 / column 0. Time elaspse from column 0 0.73 secs\n",
            "row 249 / column 60. Time elaspse from column 0 44.37 secs\n",
            "row 250 / column 0. Time elaspse from column 0 0.72 secs\n",
            "row 250 / column 60. Time elaspse from column 0 44.39 secs\n",
            "row 251 / column 0. Time elaspse from column 0 0.73 secs\n",
            "row 251 / column 60. Time elaspse from column 0 44.33 secs\n",
            "row 252 / column 0. Time elaspse from column 0 0.72 secs\n",
            "row 252 / column 60. Time elaspse from column 0 44.51 secs\n",
            "row 253 / column 0. Time elaspse from column 0 0.74 secs\n",
            "row 253 / column 60. Time elaspse from column 0 44.36 secs\n",
            "row 254 / column 0. Time elaspse from column 0 0.73 secs\n",
            "row 254 / column 60. Time elaspse from column 0 44.36 secs\n",
            "row 255 / column 0. Time elaspse from column 0 0.73 secs\n",
            "row 255 / column 60. Time elaspse from column 0 44.44 secs\n",
            "row 256 / column 0. Time elaspse from column 0 0.73 secs\n",
            "row 256 / column 60. Time elaspse from column 0 44.35 secs\n",
            "row 257 / column 0. Time elaspse from column 0 0.72 secs\n",
            "row 257 / column 60. Time elaspse from column 0 44.3 secs\n",
            "row 258 / column 0. Time elaspse from column 0 0.73 secs\n",
            "row 258 / column 60. Time elaspse from column 0 44.34 secs\n",
            "row 259 / column 0. Time elaspse from column 0 0.74 secs\n",
            "row 259 / column 60. Time elaspse from column 0 44.36 secs\n",
            "row 260 / column 0. Time elaspse from column 0 0.72 secs\n",
            "row 260 / column 60. Time elaspse from column 0 44.34 secs\n",
            "row 261 / column 0. Time elaspse from column 0 0.72 secs\n",
            "row 261 / column 60. Time elaspse from column 0 44.41 secs\n",
            "row 262 / column 0. Time elaspse from column 0 0.72 secs\n",
            "row 262 / column 60. Time elaspse from column 0 44.3 secs\n",
            "row 263 / column 0. Time elaspse from column 0 0.72 secs\n",
            "row 263 / column 60. Time elaspse from column 0 44.47 secs\n",
            "row 264 / column 0. Time elaspse from column 0 0.73 secs\n",
            "row 264 / column 60. Time elaspse from column 0 44.34 secs\n",
            "row 265 / column 0. Time elaspse from column 0 0.73 secs\n",
            "row 265 / column 60. Time elaspse from column 0 44.33 secs\n",
            "row 266 / column 0. Time elaspse from column 0 0.72 secs\n",
            "row 266 / column 60. Time elaspse from column 0 44.31 secs\n",
            "row 267 / column 0. Time elaspse from column 0 0.73 secs\n",
            "row 267 / column 60. Time elaspse from column 0 44.28 secs\n",
            "row 268 / column 0. Time elaspse from column 0 0.73 secs\n",
            "row 268 / column 60. Time elaspse from column 0 44.39 secs\n",
            "row 269 / column 0. Time elaspse from column 0 0.73 secs\n",
            "row 269 / column 60. Time elaspse from column 0 44.37 secs\n",
            "row 270 / column 0. Time elaspse from column 0 0.72 secs\n",
            "row 270 / column 60. Time elaspse from column 0 44.47 secs\n",
            "row 271 / column 0. Time elaspse from column 0 0.73 secs\n",
            "row 271 / column 60. Time elaspse from column 0 44.33 secs\n",
            "row 272 / column 0. Time elaspse from column 0 0.72 secs\n",
            "row 272 / column 60. Time elaspse from column 0 44.33 secs\n",
            "row 273 / column 0. Time elaspse from column 0 0.73 secs\n",
            "row 273 / column 60. Time elaspse from column 0 44.37 secs\n",
            "row 274 / column 0. Time elaspse from column 0 0.73 secs\n",
            "row 274 / column 60. Time elaspse from column 0 44.31 secs\n",
            "row 275 / column 0. Time elaspse from column 0 0.73 secs\n",
            "row 275 / column 60. Time elaspse from column 0 44.29 secs\n",
            "row 276 / column 0. Time elaspse from column 0 0.73 secs\n",
            "row 276 / column 60. Time elaspse from column 0 44.33 secs\n",
            "row 277 / column 0. Time elaspse from column 0 0.73 secs\n",
            "row 277 / column 60. Time elaspse from column 0 44.48 secs\n",
            "row 278 / column 0. Time elaspse from column 0 0.72 secs\n",
            "row 278 / column 60. Time elaspse from column 0 44.35 secs\n",
            "row 279 / column 0. Time elaspse from column 0 0.73 secs\n",
            "row 279 / column 60. Time elaspse from column 0 44.35 secs\n",
            "row 280 / column 0. Time elaspse from column 0 0.73 secs\n",
            "row 280 / column 60. Time elaspse from column 0 44.39 secs\n",
            "row 281 / column 0. Time elaspse from column 0 0.72 secs\n",
            "row 281 / column 60. Time elaspse from column 0 44.33 secs\n",
            "row 282 / column 0. Time elaspse from column 0 0.73 secs\n",
            "row 282 / column 60. Time elaspse from column 0 44.4 secs\n",
            "row 283 / column 0. Time elaspse from column 0 0.73 secs\n",
            "row 283 / column 60. Time elaspse from column 0 44.41 secs\n",
            "row 284 / column 0. Time elaspse from column 0 0.72 secs\n",
            "row 284 / column 60. Time elaspse from column 0 44.34 secs\n",
            "row 285 / column 0. Time elaspse from column 0 0.72 secs\n",
            "row 285 / column 60. Time elaspse from column 0 44.34 secs\n",
            "row 286 / column 0. Time elaspse from column 0 0.73 secs\n",
            "row 286 / column 60. Time elaspse from column 0 44.39 secs\n",
            "row 287 / column 0. Time elaspse from column 0 0.73 secs\n",
            "row 287 / column 60. Time elaspse from column 0 44.36 secs\n",
            "row 288 / column 0. Time elaspse from column 0 0.74 secs\n",
            "row 288 / column 60. Time elaspse from column 0 44.44 secs\n",
            "row 289 / column 0. Time elaspse from column 0 0.74 secs\n",
            "row 289 / column 60. Time elaspse from column 0 44.34 secs\n",
            "row 290 / column 0. Time elaspse from column 0 0.72 secs\n",
            "row 290 / column 60. Time elaspse from column 0 44.68 secs\n",
            "row 291 / column 0. Time elaspse from column 0 0.74 secs\n",
            "row 291 / column 60. Time elaspse from column 0 44.45 secs\n",
            "row 292 / column 0. Time elaspse from column 0 0.73 secs\n",
            "row 292 / column 60. Time elaspse from column 0 44.38 secs\n",
            "row 293 / column 0. Time elaspse from column 0 0.73 secs\n",
            "row 293 / column 60. Time elaspse from column 0 44.3 secs\n",
            "row 294 / column 0. Time elaspse from column 0 0.73 secs\n",
            "row 294 / column 60. Time elaspse from column 0 44.42 secs\n",
            "row 295 / column 0. Time elaspse from column 0 0.73 secs\n",
            "row 295 / column 60. Time elaspse from column 0 44.46 secs\n",
            "row 296 / column 0. Time elaspse from column 0 0.73 secs\n",
            "row 296 / column 60. Time elaspse from column 0 44.42 secs\n",
            "row 297 / column 0. Time elaspse from column 0 0.73 secs\n",
            "row 297 / column 60. Time elaspse from column 0 44.4 secs\n",
            "row 298 / column 0. Time elaspse from column 0 0.72 secs\n",
            "row 298 / column 60. Time elaspse from column 0 44.42 secs\n",
            "row 299 / column 0. Time elaspse from column 0 0.73 secs\n",
            "row 299 / column 60. Time elaspse from column 0 44.43 secs\n",
            "row 300 / column 0. Time elaspse from column 0 0.73 secs\n",
            "row 300 / column 60. Time elaspse from column 0 44.4 secs\n",
            "row 301 / column 0. Time elaspse from column 0 0.73 secs\n",
            "row 301 / column 60. Time elaspse from column 0 44.73 secs\n",
            "row 302 / column 0. Time elaspse from column 0 0.72 secs\n",
            "row 302 / column 60. Time elaspse from column 0 44.43 secs\n",
            "row 303 / column 0. Time elaspse from column 0 0.73 secs\n",
            "row 303 / column 60. Time elaspse from column 0 44.39 secs\n",
            "row 304 / column 0. Time elaspse from column 0 0.73 secs\n",
            "row 304 / column 60. Time elaspse from column 0 44.46 secs\n",
            "row 305 / column 0. Time elaspse from column 0 0.73 secs\n",
            "row 305 / column 60. Time elaspse from column 0 44.4 secs\n",
            "row 306 / column 0. Time elaspse from column 0 0.72 secs\n",
            "row 306 / column 60. Time elaspse from column 0 44.43 secs\n",
            "row 307 / column 0. Time elaspse from column 0 0.72 secs\n",
            "row 307 / column 60. Time elaspse from column 0 44.31 secs\n",
            "row 308 / column 0. Time elaspse from column 0 0.73 secs\n",
            "row 308 / column 60. Time elaspse from column 0 44.32 secs\n",
            "row 309 / column 0. Time elaspse from column 0 0.72 secs\n",
            "row 309 / column 60. Time elaspse from column 0 44.44 secs\n",
            "row 310 / column 0. Time elaspse from column 0 0.73 secs\n",
            "row 310 / column 60. Time elaspse from column 0 44.44 secs\n",
            "row 311 / column 0. Time elaspse from column 0 0.73 secs\n",
            "row 311 / column 60. Time elaspse from column 0 44.39 secs\n",
            "row 312 / column 0. Time elaspse from column 0 0.74 secs\n",
            "row 312 / column 60. Time elaspse from column 0 44.39 secs\n",
            "row 313 / column 0. Time elaspse from column 0 0.73 secs\n",
            "row 313 / column 60. Time elaspse from column 0 44.46 secs\n",
            "row 314 / column 0. Time elaspse from column 0 0.73 secs\n",
            "row 314 / column 60. Time elaspse from column 0 44.56 secs\n",
            "row 315 / column 0. Time elaspse from column 0 0.73 secs\n",
            "row 315 / column 60. Time elaspse from column 0 44.43 secs\n",
            "row 316 / column 0. Time elaspse from column 0 0.73 secs\n",
            "row 316 / column 60. Time elaspse from column 0 44.42 secs\n",
            "row 317 / column 0. Time elaspse from column 0 0.73 secs\n",
            "row 317 / column 60. Time elaspse from column 0 44.42 secs\n",
            "row 318 / column 0. Time elaspse from column 0 0.74 secs\n",
            "row 318 / column 60. Time elaspse from column 0 45.28 secs\n",
            "row 319 / column 0. Time elaspse from column 0 0.74 secs\n",
            "row 319 / column 60. Time elaspse from column 0 45.05 secs\n",
            "row 320 / column 0. Time elaspse from column 0 0.74 secs\n",
            "row 320 / column 60. Time elaspse from column 0 45.13 secs\n",
            "row 321 / column 0. Time elaspse from column 0 0.74 secs\n",
            "row 321 / column 60. Time elaspse from column 0 44.92 secs\n",
            "row 322 / column 0. Time elaspse from column 0 0.74 secs\n",
            "row 322 / column 60. Time elaspse from column 0 45.01 secs\n",
            "row 323 / column 0. Time elaspse from column 0 0.75 secs\n",
            "row 323 / column 60. Time elaspse from column 0 44.85 secs\n",
            "row 324 / column 0. Time elaspse from column 0 0.74 secs\n",
            "row 324 / column 60. Time elaspse from column 0 44.87 secs\n",
            "row 325 / column 0. Time elaspse from column 0 0.73 secs\n",
            "row 325 / column 60. Time elaspse from column 0 44.47 secs\n",
            "row 326 / column 0. Time elaspse from column 0 0.74 secs\n",
            "row 326 / column 60. Time elaspse from column 0 44.76 secs\n",
            "row 327 / column 0. Time elaspse from column 0 0.73 secs\n",
            "row 327 / column 60. Time elaspse from column 0 44.61 secs\n",
            "row 328 / column 0. Time elaspse from column 0 0.74 secs\n",
            "row 328 / column 60. Time elaspse from column 0 45.9 secs\n",
            "row 329 / column 0. Time elaspse from column 0 0.75 secs\n",
            "row 329 / column 60. Time elaspse from column 0 45.08 secs\n",
            "row 330 / column 0. Time elaspse from column 0 0.73 secs\n",
            "row 330 / column 60. Time elaspse from column 0 44.7 secs\n",
            "row 331 / column 0. Time elaspse from column 0 0.73 secs\n",
            "row 331 / column 60. Time elaspse from column 0 44.49 secs\n",
            "row 332 / column 0. Time elaspse from column 0 0.73 secs\n",
            "row 332 / column 60. Time elaspse from column 0 44.46 secs\n",
            "row 333 / column 0. Time elaspse from column 0 0.73 secs\n",
            "row 333 / column 60. Time elaspse from column 0 44.45 secs\n",
            "row 334 / column 0. Time elaspse from column 0 0.73 secs\n",
            "row 334 / column 60. Time elaspse from column 0 44.53 secs\n",
            "row 335 / column 0. Time elaspse from column 0 0.73 secs\n",
            "row 335 / column 60. Time elaspse from column 0 44.54 secs\n",
            "row 336 / column 0. Time elaspse from column 0 0.73 secs\n",
            "row 336 / column 60. Time elaspse from column 0 44.4 secs\n",
            "row 337 / column 0. Time elaspse from column 0 0.73 secs\n",
            "row 337 / column 60. Time elaspse from column 0 44.5 secs\n",
            "row 338 / column 0. Time elaspse from column 0 0.73 secs\n",
            "row 338 / column 60. Time elaspse from column 0 44.47 secs\n",
            "row 339 / column 0. Time elaspse from column 0 0.72 secs\n",
            "row 339 / column 60. Time elaspse from column 0 44.52 secs\n",
            "row 340 / column 0. Time elaspse from column 0 0.74 secs\n",
            "row 340 / column 60. Time elaspse from column 0 44.52 secs\n",
            "row 341 / column 0. Time elaspse from column 0 0.74 secs\n",
            "row 341 / column 60. Time elaspse from column 0 44.51 secs\n",
            "row 342 / column 0. Time elaspse from column 0 0.74 secs\n",
            "row 342 / column 60. Time elaspse from column 0 44.68 secs\n",
            "row 343 / column 0. Time elaspse from column 0 0.73 secs\n",
            "row 343 / column 60. Time elaspse from column 0 44.6 secs\n",
            "row 344 / column 0. Time elaspse from column 0 0.74 secs\n",
            "row 344 / column 60. Time elaspse from column 0 44.65 secs\n",
            "row 345 / column 0. Time elaspse from column 0 0.73 secs\n",
            "row 345 / column 60. Time elaspse from column 0 44.7 secs\n",
            "row 346 / column 0. Time elaspse from column 0 0.72 secs\n",
            "row 346 / column 60. Time elaspse from column 0 44.56 secs\n",
            "row 347 / column 0. Time elaspse from column 0 0.73 secs\n",
            "row 347 / column 60. Time elaspse from column 0 44.63 secs\n",
            "row 348 / column 0. Time elaspse from column 0 0.73 secs\n",
            "row 348 / column 60. Time elaspse from column 0 44.75 secs\n",
            "row 349 / column 0. Time elaspse from column 0 0.74 secs\n",
            "row 349 / column 60. Time elaspse from column 0 44.92 secs\n",
            "row 350 / column 0. Time elaspse from column 0 0.74 secs\n",
            "row 350 / column 60. Time elaspse from column 0 44.57 secs\n",
            "row 351 / column 0. Time elaspse from column 0 0.72 secs\n",
            "row 351 / column 60. Time elaspse from column 0 44.39 secs\n",
            "row 352 / column 0. Time elaspse from column 0 0.72 secs\n",
            "row 352 / column 60. Time elaspse from column 0 44.6 secs\n",
            "row 353 / column 0. Time elaspse from column 0 0.72 secs\n",
            "row 353 / column 60. Time elaspse from column 0 44.5 secs\n",
            "row 354 / column 0. Time elaspse from column 0 0.74 secs\n",
            "row 354 / column 60. Time elaspse from column 0 44.78 secs\n",
            "row 355 / column 0. Time elaspse from column 0 0.74 secs\n",
            "row 355 / column 60. Time elaspse from column 0 44.54 secs\n",
            "row 356 / column 0. Time elaspse from column 0 0.74 secs\n",
            "row 356 / column 60. Time elaspse from column 0 44.92 secs\n",
            "row 357 / column 0. Time elaspse from column 0 0.72 secs\n",
            "row 357 / column 60. Time elaspse from column 0 44.73 secs\n",
            "row 358 / column 0. Time elaspse from column 0 0.73 secs\n",
            "row 358 / column 60. Time elaspse from column 0 45.15 secs\n",
            "row 359 / column 0. Time elaspse from column 0 0.74 secs\n",
            "row 359 / column 60. Time elaspse from column 0 45.34 secs\n",
            "row 360 / column 0. Time elaspse from column 0 0.74 secs\n",
            "row 360 / column 60. Time elaspse from column 0 45.02 secs\n",
            "row 361 / column 0. Time elaspse from column 0 0.73 secs\n",
            "row 361 / column 60. Time elaspse from column 0 44.83 secs\n",
            "row 362 / column 0. Time elaspse from column 0 0.73 secs\n",
            "row 362 / column 60. Time elaspse from column 0 44.76 secs\n",
            "row 363 / column 0. Time elaspse from column 0 0.74 secs\n",
            "row 363 / column 60. Time elaspse from column 0 44.71 secs\n",
            "row 364 / column 0. Time elaspse from column 0 0.74 secs\n",
            "row 364 / column 60. Time elaspse from column 0 44.72 secs\n",
            "row 365 / column 0. Time elaspse from column 0 0.73 secs\n",
            "row 365 / column 60. Time elaspse from column 0 45.3 secs\n",
            "row 366 / column 0. Time elaspse from column 0 0.73 secs\n",
            "row 366 / column 60. Time elaspse from column 0 45.0 secs\n",
            "row 367 / column 0. Time elaspse from column 0 0.73 secs\n",
            "row 367 / column 60. Time elaspse from column 0 45.05 secs\n",
            "row 368 / column 0. Time elaspse from column 0 0.73 secs\n",
            "row 368 / column 60. Time elaspse from column 0 44.71 secs\n",
            "row 369 / column 0. Time elaspse from column 0 0.73 secs\n",
            "row 369 / column 60. Time elaspse from column 0 45.55 secs\n",
            "row 370 / column 0. Time elaspse from column 0 0.74 secs\n",
            "row 370 / column 60. Time elaspse from column 0 45.03 secs\n",
            "row 371 / column 0. Time elaspse from column 0 0.75 secs\n",
            "row 371 / column 60. Time elaspse from column 0 45.45 secs\n",
            "row 372 / column 0. Time elaspse from column 0 0.73 secs\n",
            "row 372 / column 60. Time elaspse from column 0 45.49 secs\n",
            "row 373 / column 0. Time elaspse from column 0 0.74 secs\n",
            "row 373 / column 60. Time elaspse from column 0 44.98 secs\n",
            "row 374 / column 0. Time elaspse from column 0 0.72 secs\n",
            "row 374 / column 60. Time elaspse from column 0 44.7 secs\n",
            "row 375 / column 0. Time elaspse from column 0 0.74 secs\n",
            "row 375 / column 60. Time elaspse from column 0 44.73 secs\n",
            "row 376 / column 0. Time elaspse from column 0 0.73 secs\n",
            "row 376 / column 60. Time elaspse from column 0 45.07 secs\n",
            "row 377 / column 0. Time elaspse from column 0 0.74 secs\n",
            "row 377 / column 60. Time elaspse from column 0 44.73 secs\n",
            "row 378 / column 0. Time elaspse from column 0 0.73 secs\n",
            "row 378 / column 60. Time elaspse from column 0 44.62 secs\n",
            "row 379 / column 0. Time elaspse from column 0 0.73 secs\n",
            "row 379 / column 60. Time elaspse from column 0 45.03 secs\n",
            "row 380 / column 0. Time elaspse from column 0 0.73 secs\n",
            "row 380 / column 60. Time elaspse from column 0 44.78 secs\n",
            "row 381 / column 0. Time elaspse from column 0 0.74 secs\n",
            "row 381 / column 60. Time elaspse from column 0 44.87 secs\n",
            "row 382 / column 0. Time elaspse from column 0 0.74 secs\n",
            "row 382 / column 60. Time elaspse from column 0 44.65 secs\n",
            "row 383 / column 0. Time elaspse from column 0 0.72 secs\n",
            "row 383 / column 60. Time elaspse from column 0 44.84 secs\n",
            "row 384 / column 0. Time elaspse from column 0 0.73 secs\n",
            "row 384 / column 60. Time elaspse from column 0 44.6 secs\n",
            "row 385 / column 0. Time elaspse from column 0 0.73 secs\n",
            "row 385 / column 60. Time elaspse from column 0 44.62 secs\n",
            "row 386 / column 0. Time elaspse from column 0 0.74 secs\n",
            "row 386 / column 60. Time elaspse from column 0 44.6 secs\n",
            "row 387 / column 0. Time elaspse from column 0 0.72 secs\n",
            "row 387 / column 60. Time elaspse from column 0 44.53 secs\n",
            "row 388 / column 0. Time elaspse from column 0 0.73 secs\n",
            "row 388 / column 60. Time elaspse from column 0 44.75 secs\n",
            "row 389 / column 0. Time elaspse from column 0 0.73 secs\n",
            "row 389 / column 60. Time elaspse from column 0 44.54 secs\n",
            "row 390 / column 0. Time elaspse from column 0 0.74 secs\n",
            "row 390 / column 60. Time elaspse from column 0 44.5 secs\n",
            "row 391 / column 0. Time elaspse from column 0 0.73 secs\n",
            "row 391 / column 60. Time elaspse from column 0 44.68 secs\n",
            "row 392 / column 0. Time elaspse from column 0 0.73 secs\n",
            "row 392 / column 60. Time elaspse from column 0 44.8 secs\n",
            "row 393 / column 0. Time elaspse from column 0 0.74 secs\n",
            "row 393 / column 60. Time elaspse from column 0 44.73 secs\n",
            "row 394 / column 0. Time elaspse from column 0 0.73 secs\n",
            "row 394 / column 60. Time elaspse from column 0 44.67 secs\n",
            "row 395 / column 0. Time elaspse from column 0 0.73 secs\n",
            "row 395 / column 60. Time elaspse from column 0 44.79 secs\n",
            "row 396 / column 0. Time elaspse from column 0 0.74 secs\n"
          ]
        }
      ]
    },
    {
      "cell_type": "code",
      "metadata": {
        "id": "N10tJlL_5NYm"
      },
      "source": [
        "with strategy.scope():\n",
        "  model = get_model(tpu = True)\n",
        "  model.fit(\n",
        "    train_examples, train_labels,\n",
        "    epochs=10\n",
        "  )\n"
      ],
      "execution_count": null,
      "outputs": []
    },
    {
      "cell_type": "code",
      "metadata": {
        "id": "a0EGD4EybTZX"
      },
      "source": [
        "model.predict(train_examples)"
      ],
      "execution_count": null,
      "outputs": []
    },
    {
      "cell_type": "code",
      "metadata": {
        "id": "IMGBKxQv9YjI"
      },
      "source": [
        "\n",
        "def resid_fn(pre_img, post_img):\n",
        "  return(np.sum(np.absolute(pre_img - post_img)))\n",
        "  "
      ],
      "execution_count": null,
      "outputs": []
    },
    {
      "cell_type": "code",
      "metadata": {
        "id": "NLVBS9QwRNzi"
      },
      "source": [
        "def classificator(validation_examples, train_examples, rows_t, cols_t, rows_v, cols_v, qtl = 0.99, model = None):\n",
        "  post_validation_exam = model.predict(validation_examples)\n",
        "  # post = train_examples = model.predict(train_examples)\n",
        "  cutoff = get_train_residuals_qtl(train_examples, rows_t, cols_t, qtl, model)\n",
        "  res = []\n",
        "  temp_res = []\n",
        "  for ii in range(0,rows_v * cols_v, cols_v):\n",
        "    print(\"===== Done {} out of {}\".format(ii, rows_v) )\n",
        "    for jj in range(cols_v):\n",
        "      temp_res.append(resid_fn(validation_examples[ii+jj,:, :,:], post_validation_exam[ii+jj,:,:,:]))\n",
        "    \n",
        "    if max(temp_res) > cutoff:\n",
        "      res.append(1)\n",
        "    else:\n",
        "      res.append(0) \n",
        "\n",
        "  return(res) \n",
        "\n"
      ],
      "execution_count": null,
      "outputs": []
    },
    {
      "cell_type": "code",
      "metadata": {
        "id": "RJOM_zbEb1VI"
      },
      "source": [
        "model.predict(validation_examples)"
      ],
      "execution_count": null,
      "outputs": []
    },
    {
      "cell_type": "code",
      "metadata": {
        "id": "tzz1Jk3mMZPi"
      },
      "source": [
        "def get_train_residuals_qtl(train_examples, rows, cols, qtl = 0.99, model = None):\n",
        "  \n",
        "  results = []\n",
        "  res = model.predict(train_examples)\n",
        "  for ii in range(rows*cols):\n",
        "    results.append( resid_fn(res[ii,:,:,:], train_examples[ii,:,:,:]))\n",
        "  plt.plot(results)\n",
        "  results.sort()\n",
        "  plt.plot(results)  \n",
        "  return(results[int(np.floor(len(results) * qtl))])\n",
        "  # return(results)\n"
      ],
      "execution_count": null,
      "outputs": []
    },
    {
      "cell_type": "code",
      "metadata": {
        "id": "jBZq_Lxr6NlQ"
      },
      "source": [
        "pred_train = get_train_residuals_qtl(train_examples, rows_t, cols_t, qtl = 0.99, model = model)"
      ],
      "execution_count": null,
      "outputs": []
    },
    {
      "cell_type": "code",
      "metadata": {
        "id": "4eKZKL1HQMvz"
      },
      "source": [
        "\n",
        "with strategy.scope():\n",
        "  pred_labels = classificator(validation_examples, train_examples, rows_t, cols_t, rows_v, cols_v, qtl = 0.99, model = model)"
      ],
      "execution_count": null,
      "outputs": []
    },
    {
      "cell_type": "code",
      "metadata": {
        "id": "stBOOsLce0DH"
      },
      "source": [
        "def print_stats(predictions, labels):\n",
        "  print(\"Accuracy = {}\".format(accuracy_score(validation_labels, pred_labels)))\n",
        "  print(\"Precision = {}\".format(precision_score(labels, predictions)))\n",
        "  print(\"Recall = {}\".format(recall_score(labels, predictions)))"
      ],
      "execution_count": null,
      "outputs": []
    },
    {
      "cell_type": "code",
      "metadata": {
        "id": "Ut6psNiFe3nv"
      },
      "source": [
        "print_stats(pred_labels, validation_labels)"
      ],
      "execution_count": null,
      "outputs": []
    },
    {
      "cell_type": "code",
      "metadata": {
        "id": "FMOQYPCgiH6k"
      },
      "source": [
        "files.download(\"data_set.npz\")"
      ],
      "execution_count": null,
      "outputs": []
    }
  ]
}