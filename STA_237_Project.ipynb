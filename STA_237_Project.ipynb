{
  "nbformat": 4,
  "nbformat_minor": 0,
  "metadata": {
    "colab": {
      "name": "STA 237 Project",
      "provenance": [],
      "include_colab_link": true
    },
    "kernelspec": {
      "display_name": "Python 3",
      "name": "python3"
    }
  },
  "cells": [
    {
      "cell_type": "markdown",
      "metadata": {
        "id": "view-in-github",
        "colab_type": "text"
      },
      "source": [
        "<a href=\"https://colab.research.google.com/github/ormorteey/STA-237-Time-Series/blob/main/STA_237_Project.ipynb\" target=\"_parent\"><img src=\"https://colab.research.google.com/assets/colab-badge.svg\" alt=\"Open In Colab\"/></a>"
      ]
    },
    {
      "cell_type": "code",
      "metadata": {
        "id": "lIYdn1woOS1n"
      },
      "source": [
        "import numpy as np\n",
        "import pandas as pd\n",
        "from matplotlib import pyplot as plt\n",
        "import tensorflow as tf\n",
        "import os"
      ],
      "execution_count": 45,
      "outputs": []
    },
    {
      "cell_type": "code",
      "metadata": {
        "id": "qT8xfUPrC4oA"
      },
      "source": [
        "%load_ext rpy2.ipython"
      ],
      "execution_count": 3,
      "outputs": []
    },
    {
      "cell_type": "code",
      "metadata": {
        "id": "44Yq6iS5_DqF"
      },
      "source": [
        "%%capture\n",
        "%%R\n",
        "\n",
        "h = install.packages(\"pacman\")\n",
        "h = library(pacman)"
      ],
      "execution_count": 4,
      "outputs": []
    },
    {
      "cell_type": "code",
      "metadata": {
        "id": "6s1dfIhFDNdf"
      },
      "source": [
        "%%R\n",
        "p_load(\"tidyverse\", \"googledrive\")"
      ],
      "execution_count": 6,
      "outputs": []
    },
    {
      "cell_type": "code",
      "metadata": {
        "colab": {
          "base_uri": "https://localhost:8080/"
        },
        "id": "Bgcoci3oC3qt",
        "outputId": "6aa1659d-ee27-411e-adba-96cc2d141792"
      },
      "source": [
        "%%R\n",
        "\n",
        "# downloading data\n",
        "\n",
        "drive_deauth()\n",
        "drive_user()\n",
        "public_file = drive_get(as_id(c(\"10i8tM37aqHvD-YH2JK1qZAXzYdawIsgh\",\"1eJ4uXiFqGqsXJ2ut5vex_Lg3BLlUAPjT\",\"1B6pbF90ryhJ-kpu0nQ3FKt6RcSavgCMS\")) )\n",
        "\n",
        "1:3 %>% map(~drive_download(public_file[.,], overwrite = T))"
      ],
      "execution_count": 48,
      "outputs": [
        {
          "output_type": "stream",
          "name": "stdout",
          "text": [
            "ℹ Not logged in as any specific Google user.\n",
            "File downloaded:\n",
            "• 'dfvalid_groundtruth.csv' <id: 10i8tM37aqHvD-YH2JK1qZAXzYdawIsgh>\n",
            "Saved locally as:\n",
            "• 'dfvalid_groundtruth.csv'\n",
            "File downloaded:\n",
            "• 'dfvalid.h5' <id: 1eJ4uXiFqGqsXJ2ut5vex_Lg3BLlUAPjT>\n",
            "Saved locally as:\n",
            "• 'dfvalid.h5'\n",
            "File downloaded:\n",
            "• 'dftrain.h5' <id: 1B6pbF90ryhJ-kpu0nQ3FKt6RcSavgCMS>\n",
            "Saved locally as:\n",
            "• 'dftrain.h5'\n",
            "[[1]]\n",
            "# A dribble: 1 × 4\n",
            "  name                    local_path              id              drive_resource\n",
            "  <chr>                   <chr>                   <drv_id>        <list>        \n",
            "1 dfvalid_groundtruth.csv dfvalid_groundtruth.csv 10i8tM37aqHvD-… <named list […\n",
            "\n",
            "[[2]]\n",
            "# A dribble: 1 × 4\n",
            "  name       local_path id                                drive_resource   \n",
            "  <chr>      <chr>      <drv_id>                          <list>           \n",
            "1 dfvalid.h5 dfvalid.h5 1eJ4uXiFqGqsXJ2ut5vex_Lg3BLlUAPjT <named list [36]>\n",
            "\n",
            "[[3]]\n",
            "# A dribble: 1 × 4\n",
            "  name       local_path id                                drive_resource   \n",
            "  <chr>      <chr>      <drv_id>                          <list>           \n",
            "1 dftrain.h5 dftrain.h5 1B6pbF90ryhJ-kpu0nQ3FKt6RcSavgCMS <named list [34]>\n",
            "\n"
          ]
        }
      ]
    },
    {
      "cell_type": "code",
      "metadata": {
        "id": "lHtEHnrFD8tY"
      },
      "source": [
        "!rm -r /content/time-series-image-embedding/\n",
        "!git clone https://github.com/briancknight/time-series-image-embedding.git\n"
      ],
      "execution_count": null,
      "outputs": []
    },
    {
      "cell_type": "code",
      "metadata": {
        "id": "DdE_zlEHmN_k"
      },
      "source": [
        "airbus_train_path = 'dftrain.h5'\n",
        "airbus_valid_path = 'dfvalid.h5'\n",
        "airbus_valid_groundtruth_path = 'dfvalid_groundtruth.csv'\n",
        "train_df = pd.read_hdf(airbus_train_path)\n",
        "valid_df = pd.read_hdf(airbus_valid_path)\n",
        "valid_groundtruth_df = pd.read_csv(airbus_valid_groundtruth_path)\n"
      ],
      "execution_count": 55,
      "outputs": []
    },
    {
      "cell_type": "code",
      "metadata": {
        "colab": {
          "base_uri": "https://localhost:8080/"
        },
        "id": "zbK0afAN-Wa1",
        "outputId": "774a7ffa-b89b-48ec-fab2-cae1f0f6de0f"
      },
      "source": [
        "\n",
        "print(valid_groundtruth_df.head())\n",
        "print(train_df.head())\n",
        "print(valid_df.tail())\n",
        "print(valid_groundtruth_df.shape)\n",
        "print(train_df.shape)\n",
        "print(valid_df.shape)"
      ],
      "execution_count": 56,
      "outputs": [
        {
          "output_type": "stream",
          "name": "stdout",
          "text": [
            "   seqID  anomaly\n",
            "0      0      0.0\n",
            "1      1      1.0\n",
            "2      2      0.0\n",
            "3      3      0.0\n",
            "4      4      1.0\n",
            "      0         1         2      ...     61437     61438     61439\n",
            "0  0.041259  0.041259  0.032573  ...  0.096632  0.077089  0.040173\n",
            "1 -0.211722 -0.264924 -0.274696  ... -0.838202 -0.880546 -0.739398\n",
            "2  0.214105  0.154930  0.136640  ...  1.296464  0.937112  0.451879\n",
            "3 -0.154837 -0.127768 -0.217638  ... -0.173244 -0.063884  0.081208\n",
            "4 -1.022780 -0.916376 -0.676425  ... -0.916376 -1.010837 -0.804544\n",
            "\n",
            "[5 rows x 61440 columns]\n",
            "         0          1          2      ...      61437      61438      61439\n",
            "589 -18.291415 -18.288957 -18.285270  ... -19.496996 -19.493310 -19.490852\n",
            "590 -13.352138 -13.352138 -13.352138  ... -13.352138 -13.352138 -13.352138\n",
            "591   0.031800  -0.143735  -0.059784  ...   0.050880  -0.020352   0.025440\n",
            "592  -0.026635  -0.026635  -0.006721  ...   0.081399   0.103056   0.113760\n",
            "593  -1.161032  -0.674459  -0.280623  ...  -0.026497  -0.456464  -0.793693\n",
            "\n",
            "[5 rows x 61440 columns]\n",
            "(594, 2)\n",
            "(1677, 61440)\n",
            "(594, 61440)\n"
          ]
        }
      ]
    },
    {
      "cell_type": "code",
      "metadata": {
        "colab": {
          "base_uri": "https://localhost:8080/",
          "height": 374
        },
        "id": "A_9r2YoGn9lQ",
        "outputId": "f6e428ba-7af0-4f57-d88a-13a9d3bf8ee6"
      },
      "source": [
        "np.random.seed(123)\n",
        "plt.figure(num = 1, figsize=(6,6))\n",
        "plt.subplot(411)\n",
        "plt.plot(train_df.iloc[0,])\n",
        "plt.subplot(412)\n",
        "plt.plot(train_df.iloc[100,])\n",
        "plt.subplot(413)\n",
        "plt.plot(train_df.iloc[1000,])\n",
        "plt.subplot(414)\n",
        "plt.plot(train_df.iloc[np.random.randint(1677),])\n",
        "plt.show()"
      ],
      "execution_count": 44,
      "outputs": [
        {
          "output_type": "display_data",
          "data": {
            "image/png": "[encoded data removed]",
            "text/plain": [
              "<Figure size 432x432 with 4 Axes>"
            ]
          },
          "metadata": {
            "needs_background": "light"
          }
        }
      ]
    },
    {
      "cell_type": "code",
      "metadata": {
        "colab": {
          "base_uri": "https://localhost:8080/"
        },
        "id": "sB3VwT8q-8GH",
        "outputId": "b419a517-ace0-41d4-ad86-ab08fe0cc632"
      },
      "source": [
        "valid_groundtruth_df.loc[:,'anomaly'].value_counts()"
      ],
      "execution_count": 81,
      "outputs": [
        {
          "output_type": "execute_result",
          "data": {
            "text/plain": [
              "1.0    297\n",
              "0.0    297\n",
              "Name: anomaly, dtype: int64"
            ]
          },
          "metadata": {},
          "execution_count": 81
        }
      ]
    },
    {
      "cell_type": "code",
      "metadata": {
        "colab": {
          "base_uri": "https://localhost:8080/"
        },
        "id": "cz0BgwgPqvWh",
        "outputId": "45dbd7d1-f113-4a59-de6b-df6e17c716c9"
      },
      "source": [
        "train_df.shape[1]/512"
      ],
      "execution_count": 47,
      "outputs": [
        {
          "output_type": "execute_result",
          "data": {
            "text/plain": [
              "120.0"
            ]
          },
          "metadata": {},
          "execution_count": 47
        }
      ]
    },
    {
      "cell_type": "code",
      "metadata": {
        "id": "3G9tZie2BJE5"
      },
      "source": [
        ""
      ],
      "execution_count": null,
      "outputs": []
    }
  ]
}